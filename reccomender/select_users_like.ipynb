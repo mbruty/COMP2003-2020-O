{
 "metadata": {
  "language_info": {
   "codemirror_mode": {
    "name": "ipython",
    "version": 3
   },
   "file_extension": ".py",
   "mimetype": "text/x-python",
   "name": "python",
   "nbconvert_exporter": "python",
   "pygments_lexer": "ipython3",
   "version": "3.8.5-final"
  },
  "orig_nbformat": 2,
  "kernelspec": {
   "name": "python3",
   "display_name": "Python 3.8.5 64-bit",
   "metadata": {
    "interpreter": {
     "hash": "2db524e06e9f5f4ffedc911c917cb75e12dbc923643829bf417064a77eb14d37"
    }
   }
  }
 },
 "nbformat": 4,
 "nbformat_minor": 2,
 "cells": [
  {
   "cell_type": "code",
   "execution_count": 1,
   "metadata": {},
   "outputs": [],
   "source": [
    "from mysql_connection import get_cursor\n",
    "import time\n",
    "import pandas as pd\n",
    "\n",
    "cursor = get_cursor()\n",
    "# Start the timer\n",
    "start = time.perf_counter()"
   ]
  },
  {
   "source": [
    "## Call get food checs by id with the user id"
   ],
   "cell_type": "markdown",
   "metadata": {}
  },
  {
   "cell_type": "code",
   "execution_count": 2,
   "metadata": {},
   "outputs": [
    {
     "output_type": "stream",
     "name": "stdout",
     "text": [
      "(0, 0, 0, 0, 1, 1, 1, 1, 1)\n"
     ]
    }
   ],
   "source": [
    "user_id = (1,)\n",
    "foodchecks = cursor.callproc(\"get_foodchecks_by_id\", user_id)\n",
    "checks = []\n",
    "# stored_results is iterable, have to do this way\n",
    "for result in cursor.stored_results():\n",
    "    checks = result.fetchall()[0][1:]\n",
    "\n",
    "print(checks)"
   ]
  },
  {
   "source": [
    "## Parse all the results, and create the WHERE clause"
   ],
   "cell_type": "markdown",
   "metadata": {}
  },
  {
   "cell_type": "code",
   "execution_count": 3,
   "metadata": {},
   "outputs": [
    {
     "output_type": "stream",
     "name": "stdout",
     "text": [
      "IsVegetarian : 0\nIsVegan : 0\nIsHala : 0\nIsKosher : 0\nHasLactose : 1\nHasNuts : 1\nHasGluten : 1\nHasEgg : 1\nHasSoy : 1\n---------------------------------\nHasLactose=1 AND HasNuts=1 AND HasGluten=1 AND HasEgg=1 AND HasSoy=1\n"
     ]
    }
   ],
   "source": [
    "column_rows = [\"IsVegetarian\", \"IsVegan\", \"IsHala\", \"IsKosher\", \"HasLactose\", \"HasNuts\", \"HasGluten\", \"HasEgg\", \"HasSoy\"]\n",
    "\n",
    "def print_food_checks(result) :\n",
    "    for i in range(len(result)):\n",
    "        print(f\"{column_rows[i]} : {result[i]}\")\n",
    "\n",
    "print_food_checks(checks)\n",
    "\n",
    "def food_checks_builder(result):\n",
    "    food_checks = []\n",
    "    for i in range(len(result)):\n",
    "        if(result[i]):\n",
    "            food_checks.append(f\"{column_rows[i]}=1\")\n",
    "    return \" AND \".join(food_checks)\n",
    "\n",
    "print(\"---------------------------------\")\n",
    "print(food_checks_builder(checks))"
   ]
  },
  {
   "source": [
    "## Get all the user id's with at least the food checks that you have\n",
    "### i.e. You are vegetarian... Some one who is vegetarian, egg-free, and lactose-free will also be selected "
   ],
   "cell_type": "markdown",
   "metadata": {}
  },
  {
   "cell_type": "code",
   "execution_count": 4,
   "metadata": {
    "tags": []
   },
   "outputs": [
    {
     "output_type": "stream",
     "name": "stdout",
     "text": [
      "(1,)\n"
     ]
    }
   ],
   "source": [
    "# UserID, FoodCheckID, IsVegetarian, IsVegan, IsHala, IsKosher, HasLactose, HasNuts, HasGluten, HasEgg, HasSoy\n",
    "cursor.execute(f\"SELECT UserID FROM tat.UserFoodCheckView WHERE {food_checks_builder(checks)};\")\n",
    "# Result contains an array of all users that match ATLEAST the food tags our user has\n",
    "result = cursor.fetchall()\n",
    "print(result[0])"
   ]
  },
  {
   "cell_type": "code",
   "execution_count": 5,
   "metadata": {},
   "outputs": [
    {
     "output_type": "stream",
     "name": "stdout",
     "text": [
      "[(1, 1, 10, 2, 0, 0), (1, 2, 15, 2, 0, 0), (1, 3, 0, 2, 0, 0), (2, 1, 10, 2, 0, 0), (3, 1, 10, 2, 0, 0)]\n"
     ]
    }
   ],
   "source": [
    "ids = \"(\"\n",
    "for i in result:\n",
    "    ids += str(i[0]) + \", \"\n",
    "ids = ids[:-2]\n",
    "ids += \")\"\n",
    "cursor.execute(f\"SELECT * FROM FoodOpinion WHERE UserID IN{ids};\")\n",
    "result = cursor.fetchall()\n",
    "print(result)\n",
    "data = []\n",
    "# Loop through and calc the % of total swipes that are right\n",
    "for i in range(len(result)):\n",
    "    right, left = result[i][2], result[i][3]\n",
    "    total = right + left\n",
    "    percentage = float(right) / float(total) \n",
    "    # We want the data in a range between 0 - 2, hence * by 2, rounded to 1 dp\n",
    "    value = round(percentage * 2, 1)\n",
    "    data.append([result[i][0], result[i][1], result[i][2], result[i][3], value ])\n"
   ]
  },
  {
   "source": [
    "## Normalise the right / left swipes to a rating between 0 - 2"
   ],
   "cell_type": "markdown",
   "metadata": {}
  },
  {
   "cell_type": "code",
   "execution_count": 6,
   "metadata": {},
   "outputs": [
    {
     "output_type": "stream",
     "name": "stdout",
     "text": [
      "   UserID  Food Tag ID  Right  Left  Right swipe percentage\n0       1            1     10     2                     1.7\n1       1            2     15     2                     1.8\n2       1            3      0     2                     0.0\n3       2            1     10     2                     1.7\n4       3            1     10     2                     1.7\n"
     ]
    }
   ],
   "source": [
    "df = pd.DataFrame(data)\n",
    "\n",
    "# Only using Right and Left columns to make it easier to view data...\n",
    "# In the actual app, we will only have userid and right swipe percentage\n",
    "df.columns = [\"UserID\", \"Food Tag ID\", \"Right\", \"Left\", \"Right swipe percentage\"]\n",
    "print(df)"
   ]
  },
  {
   "source": [
    "## Time the exectution"
   ],
   "cell_type": "markdown",
   "metadata": {}
  },
  {
   "cell_type": "code",
   "execution_count": 7,
   "metadata": {},
   "outputs": [
    {
     "output_type": "stream",
     "name": "stdout",
     "text": [
      "Done in 0.1794 seconds\n"
     ]
    }
   ],
   "source": [
    "end = time.perf_counter()\n",
    "print(f\"Done in {end - start:0.4f} seconds\")"
   ]
  }
 ]
}
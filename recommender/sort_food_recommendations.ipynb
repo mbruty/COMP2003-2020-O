{
 "cells": [
  {
   "cell_type": "code",
   "execution_count": 1,
   "id": "connected-inventory",
   "metadata": {},
   "outputs": [],
   "source": [
    "from sort_recommendations import sort\n",
    "from FoodItem import FoodRecommendation\n",
    "import random\n",
    "import time\n"
   ]
  },
  {
   "cell_type": "code",
   "execution_count": 2,
   "id": "short-binding",
   "metadata": {},
   "outputs": [],
   "source": [
    "ftArray = []\n",
    "for i in range(1000000):\n",
    "    ftArray.append( FoodRecommendation(i, random.randrange(0, 1000)) )"
   ]
  },
  {
   "cell_type": "code",
   "execution_count": 3,
   "id": "concerned-ballet",
   "metadata": {},
   "outputs": [
    {
     "name": "stdout",
     "output_type": "stream",
     "text": [
      "Done in 8.4976 seconds\n"
     ]
    }
   ],
   "source": [
    "start = time.perf_counter()\n",
    "sort(ftArray)\n",
    "end = time.perf_counter()\n",
    "print(f\"Done in {end - start:0.4f} seconds\")\n"
   ]
  },
  {
   "cell_type": "code",
   "execution_count": null,
   "id": "cognitive-provincial",
   "metadata": {},
   "outputs": [],
   "source": []
  }
 ],
 "metadata": {
  "kernelspec": {
   "display_name": "Python 3",
   "language": "python",
   "name": "python3"
  },
  "language_info": {
   "codemirror_mode": {
    "name": "ipython",
    "version": 3
   },
   "file_extension": ".py",
   "mimetype": "text/x-python",
   "name": "python",
   "nbconvert_exporter": "python",
   "pygments_lexer": "ipython3",
   "version": "3.9.2"
  }
 },
 "nbformat": 4,
 "nbformat_minor": 5
}

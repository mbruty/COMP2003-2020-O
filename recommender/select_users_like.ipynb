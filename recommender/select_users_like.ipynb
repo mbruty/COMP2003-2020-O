{
 "metadata": {
  "language_info": {
   "codemirror_mode": {
    "name": "ipython",
    "version": 3
   },
   "file_extension": ".py",
   "mimetype": "text/x-python",
   "name": "python",
   "nbconvert_exporter": "python",
   "pygments_lexer": "ipython3",
   "version": "3.8.5-final"
  },
  "orig_nbformat": 2,
  "kernelspec": {
   "name": "python3",
   "display_name": "Python 3.8.5 64-bit",
   "metadata": {
    "interpreter": {
     "hash": "2db524e06e9f5f4ffedc911c917cb75e12dbc923643829bf417064a77eb14d37"
    }
   }
  }
 },
 "nbformat": 4,
 "nbformat_minor": 2,
 "cells": [
  {
   "cell_type": "code",
   "execution_count": 10,
   "metadata": {},
   "outputs": [],
   "source": [
    "from mysql_connection import get_cursor\n",
    "import time\n",
    "import pandas as pd\n",
    "import numpy as np\n",
    "\n",
    "cursor = get_cursor()\n",
    "# Start the timer\n",
    "start = time.perf_counter()"
   ]
  },
  {
   "source": [
    "## Call get food checks by id with the user id"
   ],
   "cell_type": "markdown",
   "metadata": {}
  },
  {
   "cell_type": "code",
   "execution_count": 11,
   "metadata": {},
   "outputs": [
    {
     "output_type": "stream",
     "name": "stdout",
     "text": [
      "(0, 0, 0, 0, 1, 1, 1, 1, 1)\n"
     ]
    }
   ],
   "source": [
    "user_id = (1,)\n",
    "foodchecks = cursor.callproc(\"get_foodchecks_by_id\", user_id)\n",
    "checks = []\n",
    "# stored_results is iterable, have to do this way\n",
    "for result in cursor.stored_results():\n",
    "    checks = result.fetchall()[0][1:]\n",
    "\n",
    "print(checks)"
   ]
  },
  {
   "source": [
    "## Parse all the results, and create the WHERE clause"
   ],
   "cell_type": "markdown",
   "metadata": {}
  },
  {
   "cell_type": "code",
   "execution_count": 12,
   "metadata": {},
   "outputs": [
    {
     "output_type": "stream",
     "name": "stdout",
     "text": [
      "IsVegetarian : 0\nIsVegan : 0\nIsHalal : 0\nIsKosher : 0\nHasLactose : 1\nHasNuts : 1\nHasGluten : 1\nHasEgg : 1\nHasSoy : 1\n---------------------------------\nHasLactose=1 AND HasNuts=1 AND HasGluten=1 AND HasEgg=1 AND HasSoy=1\n"
     ]
    }
   ],
   "source": [
    "column_rows = [\"IsVegetarian\", \"IsVegan\", \"IsHalal\", \"IsKosher\", \"HasLactose\", \"HasNuts\", \"HasGluten\", \"HasEgg\", \"HasSoy\"]\n",
    "\n",
    "def print_food_checks(result) :\n",
    "    for i in range(len(result)):\n",
    "        print(f\"{column_rows[i]} : {result[i]}\")\n",
    "\n",
    "print_food_checks(checks)\n",
    "\n",
    "def food_checks_builder(result):\n",
    "    food_checks = []\n",
    "    for i in range(len(result)):\n",
    "        if(result[i]):\n",
    "            food_checks.append(f\"{column_rows[i]}=1\")\n",
    "    return \" AND \".join(food_checks)\n",
    "\n",
    "print(\"---------------------------------\")\n",
    "print(food_checks_builder(checks))"
   ]
  },
  {
   "source": [
    "## Get all the user id's with at least the food checks that you have\n",
    "### i.e. You are vegetarian... Some one who is vegetarian, egg-free, and lactose-free will also be selected "
   ],
   "cell_type": "markdown",
   "metadata": {}
  },
  {
   "cell_type": "code",
   "execution_count": 13,
   "metadata": {},
   "outputs": [],
   "source": [
    "cursor.execute(f\"SELECT UserID, FoodTagID, RightSwipePercent FROM FoodOpinionRightSwipePercent WHERE UserID IN(SELECT UserID FROM tat.UserFoodCheckView WHERE {food_checks_builder(checks)});\")\n",
    "result = cursor.fetchall()"
   ]
  },
  {
   "source": [
    "## Convert the result into a dataframe, and select the top 5 most liked and disliked items\n"
   ],
   "cell_type": "markdown",
   "metadata": {}
  },
  {
   "cell_type": "code",
   "execution_count": 14,
   "metadata": {},
   "outputs": [
    {
     "output_type": "execute_result",
     "data": {
      "text/plain": [
       "   UserID  FoodTagID RightSwipePercent\n",
       "0       1          4            1.8649\n",
       "1       1          9            1.8462\n",
       "2       1          2            1.7647\n",
       "3       1          1            1.6667\n",
       "4       1          7            1.5789"
      ],
      "text/html": "<div>\n<style scoped>\n    .dataframe tbody tr th:only-of-type {\n        vertical-align: middle;\n    }\n\n    .dataframe tbody tr th {\n        vertical-align: top;\n    }\n\n    .dataframe thead th {\n        text-align: right;\n    }\n</style>\n<table border=\"1\" class=\"dataframe\">\n  <thead>\n    <tr style=\"text-align: right;\">\n      <th></th>\n      <th>UserID</th>\n      <th>FoodTagID</th>\n      <th>RightSwipePercent</th>\n    </tr>\n  </thead>\n  <tbody>\n    <tr>\n      <th>0</th>\n      <td>1</td>\n      <td>4</td>\n      <td>1.8649</td>\n    </tr>\n    <tr>\n      <th>1</th>\n      <td>1</td>\n      <td>9</td>\n      <td>1.8462</td>\n    </tr>\n    <tr>\n      <th>2</th>\n      <td>1</td>\n      <td>2</td>\n      <td>1.7647</td>\n    </tr>\n    <tr>\n      <th>3</th>\n      <td>1</td>\n      <td>1</td>\n      <td>1.6667</td>\n    </tr>\n    <tr>\n      <th>4</th>\n      <td>1</td>\n      <td>7</td>\n      <td>1.5789</td>\n    </tr>\n  </tbody>\n</table>\n</div>"
     },
     "metadata": {},
     "execution_count": 14
    }
   ],
   "source": [
    "from user import User\n",
    "NUMBER_OF_ITEMS_TO_GET = 5\n",
    "\n",
    "df = pd.DataFrame(result)\n",
    "df.columns = [\"UserID\", \"FoodTagID\", \"RightSwipePercent\"]\n",
    "pointer = 0\n",
    "data = []\n",
    "\n",
    "while pointer < len(df):\n",
    "    user_indexes = df[\"UserID\"][df[\"UserID\"] == df[\"UserID\"][pointer]].index\n",
    "    first_occurance, last_occurance = user_indexes[0], user_indexes[-1]\n",
    "\n",
    "    # If the user hasn't swiped on atleast 10 items, skip them\n",
    "\n",
    "    if len(user_indexes) < 10:\n",
    "        # The index after last_occurance will be the next item\n",
    "        pointer = last_occurance + 1\n",
    "    else:\n",
    "        most_liked = df[first_occurance : first_occurance + NUMBER_OF_ITEMS_TO_GET]\n",
    "        most_disliked = df[last_occurance - NUMBER_OF_ITEMS_TO_GET : last_occurance ]\n",
    "        new_user = User(most_liked, most_disliked, False)\n",
    "        data.append(new_user)\n",
    "        pointer = last_occurance + 1\n",
    "    \n",
    "df.head()"
   ]
  },
  {
   "source": [
    "## Time the exectution"
   ],
   "cell_type": "markdown",
   "metadata": {}
  },
  {
   "cell_type": "code",
   "execution_count": 15,
   "metadata": {},
   "outputs": [
    {
     "output_type": "stream",
     "name": "stdout",
     "text": [
      "Done in 0.1275 seconds\n"
     ]
    }
   ],
   "source": [
    "end = time.perf_counter()\n",
    "print(f\"Done in {end - start:0.4f} seconds\")"
   ]
  },
  {
   "cell_type": "code",
   "execution_count": 16,
   "metadata": {},
   "outputs": [
    {
     "output_type": "stream",
     "name": "stdout",
     "text": [
      "top_five_(dis)likes: tuple ( FoodTagID, RightSwipePercent )\n"
     ]
    }
   ],
   "source": [
    "User.help()"
   ]
  },
  {
   "source": [
    "## Print the users"
   ],
   "cell_type": "markdown",
   "metadata": {}
  },
  {
   "cell_type": "code",
   "execution_count": 17,
   "metadata": {},
   "outputs": [
    {
     "output_type": "stream",
     "name": "stdout",
     "text": [
      "-----------------\nMost liked: \n[(4, 1.8649), (9, 1.8462), (2, 1.7647), (1, 1.6667), (7, 1.5789)]\nMost disliked: \n[(6, 1.0909), (8, 1.0), (5, 0.8889), (11, 0.25), (3, 0.0)]\n-----------------\n-----------------\nMost liked: \n[(7, 1.9806), (2, 1.7647), (9, 1.7391), (1, 1.6667), (6, 1.0769)]\nMost disliked: \n[(12, 0.7317), (4, 0.5455), (5, 0.5), (3, 0.4), (11, 0.3636)]\n-----------------\n"
     ]
    }
   ],
   "source": [
    "for user in data:\n",
    "    print(\"-----------------\")\n",
    "    print(f\"Most liked: \\n{user.top_five_likes}\")\n",
    "    print(f\"Most disliked: \\n{user.top_five_dislikes}\")\n",
    "    print(\"-----------------\")"
   ]
  },
  {
   "source": [
    "## See how much memory the object takes up\n",
    "### Use for any optimisations"
   ],
   "cell_type": "markdown",
   "metadata": {}
  },
  {
   "cell_type": "code",
   "execution_count": 18,
   "metadata": {},
   "outputs": [
    {
     "output_type": "stream",
     "name": "stdout",
     "text": [
      "3384\n"
     ]
    }
   ],
   "source": [
    "from pympler import asizeof\n",
    "print(asizeof.asizeof(data))\n"
   ]
  },
  {
   "cell_type": "code",
   "execution_count": null,
   "metadata": {},
   "outputs": [],
   "source": []
  }
 ]
}
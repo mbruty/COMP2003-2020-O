{
 "cells": [
  {
   "cell_type": "code",
   "execution_count": 1,
   "metadata": {},
   "outputs": [],
   "source": [
    "from mysql_connection import get_cursor\n",
    "import time\n",
    "import pandas as pd\n",
    "import numpy as np\n",
    "\n",
    "cursor = get_cursor()\n",
    "# Start the timer\n",
    "start = time.perf_counter()"
   ]
  },
  {
   "cell_type": "markdown",
   "metadata": {},
   "source": [
    "## Call get food checks by id with the user id"
   ]
  },
  {
   "source": [
    "user_id = (2,)\n",
    "foodchecks = cursor.callproc(\"GetFoodChecksByID\", user_id)\n",
    "checks = []\n",
    "# stored_results is iterable, have to do this way\n",
    "for result in cursor.stored_results():\n",
    "    checks = result.fetchall()[0][1:]\n",
    "\n",
    "print(checks)"
   ],
   "cell_type": "code",
   "metadata": {},
   "execution_count": 2,
   "outputs": [
    {
     "output_type": "stream",
     "name": "stdout",
     "text": [
      "(0, 0, 0, 0, 1, 1, 1, 1, 1)\n"
     ]
    }
   ]
  },
  {
   "cell_type": "markdown",
   "metadata": {},
   "source": [
    "## Parse all the results, and create the WHERE clause"
   ]
  },
  {
   "cell_type": "code",
   "execution_count": 3,
   "metadata": {},
   "outputs": [
    {
     "output_type": "stream",
     "name": "stdout",
     "text": [
      "IsVegetarian : 0\nIsVegan : 0\nIsHalal : 0\nIsKosher : 0\nHasLactose : 1\nHasNuts : 1\nHasGluten : 1\nHasEgg : 1\nHasSoy : 1\n---------------------------------\nHasLactose=1 AND HasNuts=1 AND HasGluten=1 AND HasEgg=1 AND HasSoy=1\n"
     ]
    }
   ],
   "source": [
    "column_rows = [\"IsVegetarian\", \"IsVegan\", \"IsHalal\", \"IsKosher\", \"HasLactose\", \"HasNuts\", \"HasGluten\", \"HasEgg\", \"HasSoy\"]\n",
    "\n",
    "def print_food_checks(result) :\n",
    "    for i in range(len(result)):\n",
    "        print(f\"{column_rows[i]} : {result[i]}\")\n",
    "\n",
    "print_food_checks(checks)\n",
    "\n",
    "def food_checks_builder(result):\n",
    "    food_checks = []\n",
    "    for i in range(len(result)):\n",
    "        if(result[i]):\n",
    "            food_checks.append(f\"{column_rows[i]}=1\")\n",
    "    return \" AND \".join(food_checks)\n",
    "\n",
    "print(\"---------------------------------\")\n",
    "print(food_checks_builder(checks))"
   ]
  },
  {
   "cell_type": "markdown",
   "metadata": {},
   "source": [
    "## Get the user's most liked and disliked items\n"
   ]
  },
  {
   "cell_type": "code",
   "execution_count": 4,
   "metadata": {},
   "outputs": [
    {
     "output_type": "stream",
     "name": "stdout",
     "text": [
      "['2', '4', '1', '28', '27', '9', '8', '7', '6', '5']\n"
     ]
    }
   ],
   "source": [
    "cursor.execute(f\"SELECT FoodTagID FROM FoodOpinionRightSwipePercent WHERE UserID={user_id[0]};\")\n",
    "result = cursor.fetchall()\n",
    "food_tags = [str(i[0]) for i in result[:5] + result[-5:]] # Select top 5 and bottom 5 rated tags\n",
    "print(food_tags)"
   ]
  },
  {
   "cell_type": "markdown",
   "metadata": {},
   "source": [
    "## Get all the user id's with at least the food checks that you have\n",
    "### i.e. You are vegetarian... Some one who is vegetarian, egg-free, and lactose-free will also be selected "
   ]
  },
  {
   "cell_type": "code",
   "execution_count": 5,
   "metadata": {},
   "outputs": [
    {
     "output_type": "stream",
     "name": "stdout",
     "text": [
      "     0   1       2\n0    6   6  1.8333\n1    6   7  1.7895\n2    6   8  1.7895\n3    6   5  1.6667\n4    6   1  1.3333\n5    6   9  1.1642\n6    6  27  0.4444\n7    6   2  0.2857\n8    6   4  0.2222\n9    6  28  0.1429\n10   7   2  2.0000\n11   7  27  1.8889\n12   7   1  1.8519\n13   7   4  1.7778\n14   7  28  1.4667\n15   7   9  1.3846\n16   7   6  0.8889\n17   7   7  0.6667\n18   7   8  0.6667\n19   7   5  0.2222\n20   8   2  1.9333\n21   8   4  1.6500\n22   8   1  0.7333\n23   8   9  0.2385\n24   8  27  0.2000\n25   8  28  0.0930\n26   8   7  0.0000\n27   8   6  0.0000\n28   8   5  0.0000\n29   8   8  0.0000\n30   9   5  1.7333\n31   9   7  1.6667\n32   9   8  1.6667\n33   9   6  1.6471\n34   9   1  1.1111\n35   9   4  0.7647\n36   9  27  0.7500\n37   9   2  0.6400\n38   9  28  0.5294\n39   9   9  0.4878\n40  11   5  1.4000\n41  11   7  1.0667\n42  11   8  1.0667\n43  11   6  1.0000\n44  11   1  0.2667\n45  11   9  0.2041\n46  11   4  0.2000\n47  11  28  0.1600\n48  11   2  0.1333\n49  11  27  0.0000\n"
     ]
    }
   ],
   "source": [
    "cursor.execute(f\"SELECT UserID, FoodTagID, RightSwipePercent FROM FoodOpinionRightSwipePercent WHERE UserID IN(SELECT UserID FROM tat.UserFoodCheckView WHERE {food_checks_builder(checks)} AND UserID<>{user_id[0]}) AND FoodTagID IN ({','.join(food_tags)});\")\n",
    "result = cursor.fetchall()\n",
    "print(pd.DataFrame(result))"
   ]
  },
  {
   "cell_type": "code",
   "execution_count": 6,
   "metadata": {},
   "outputs": [
    {
     "output_type": "stream",
     "name": "stdout",
     "text": [
      "{2: 2.0, 4: 2.0, 1: 1.0, 28: 0.0, 27: 0.0, 26: 0.0, 25: 0.0, 24: 0.0, 23: 0.0, 22: 0.0, 21: 0.0, 20: 0.0, 18: 0.0, 17: 0.0, 16: 0.0, 15: 0.0, 14: 0.0, 13: 0.0, 12: 0.0, 11: 0.0, 9: 0.0, 8: 0.0, 7: 0.0, 6: 0.0, 5: 0.0}\n"
     ]
    }
   ],
   "source": [
    "tag_dict = {}\n",
    "cursor.execute(f\"SELECT UserID, FoodTagID, RightSwipePercent FROM FoodOpinionRightSwipePercent WHERE UserID={user_id[0]};\")\n",
    "user = cursor.fetchall()\n",
    "for row in user:\n",
    "    tag_dict[row[1]] = float(row[2])\n",
    "\n",
    "print(tag_dict)"
   ]
  },
  {
   "cell_type": "code",
   "execution_count": 8,
   "metadata": {},
   "outputs": [
    {
     "output_type": "stream",
     "name": "stdout",
     "text": [
      "{55: 2, 6: 1, 7: 3, 8: 9, 9: 1, 11: 3}\n['8']\n"
     ]
    }
   ],
   "source": [
    "ptr = 0\n",
    "count_dict = {55: 2}\n",
    "TOLERANCE = 0.3\n",
    "\n",
    "# Go through all results, and count how many tags are within the tolerance\n",
    "for row in result:\n",
    "    user_val = tag_dict[row[1]]\n",
    "    # Within the user's swipe percentage + / - 0.3\n",
    "    if user_val - TOLERANCE <= row[2] <= user_val + TOLERANCE:\n",
    "        try:\n",
    "            count = count_dict[row[0]]\n",
    "            count_dict[row[0]] = count + 1\n",
    "        except:\n",
    "            count_dict[row[0]] = 1\n",
    "\n",
    "ids_to_get = []\n",
    "\n",
    "print(count_dict)\n",
    "for user in count_dict.items():\n",
    "    if(user[1] >= 5):\n",
    "        ids_to_get.append(str(user[0]))\n",
    "\n",
    "print(ids_to_get)"
   ]
  },
  {
   "cell_type": "code",
   "execution_count": 9,
   "metadata": {},
   "outputs": [
    {
     "output_type": "stream",
     "name": "stdout",
     "text": [
      "    UserID  FoodTagID RightSwipePct  Bias\n0        8          2        1.9333   1.8\n1        8          4        1.6500   1.8\n2        8         32        1.6400   1.8\n3        8         36        0.8000   1.8\n4        8          1        0.7333   1.8\n5        8         21        0.5610   1.8\n6        8         20        0.5000   1.8\n7        8         34        0.4000   1.8\n8        8         33        0.4000   1.8\n9        8         18        0.4000   1.8\n10       8          9        0.2385   1.8\n11       8         27        0.2000   1.8\n12       8         28        0.0930   1.8\n13       8         25        0.0000   1.8\n14       8         22        0.0000   1.8\n15       8         26        0.0000   1.8\n16       8         29        0.0000   1.8\n17       8         30        0.0000   1.8\n18       8         31        0.0000   1.8\n19       8          5        0.0000   1.8\n20       8         35        0.0000   1.8\n21       8         24        0.0000   1.8\n22       8         23        0.0000   1.8\n23       8          6        0.0000   1.8\n24       8         17        0.0000   1.8\n25       8         16        0.0000   1.8\n26       8         15        0.0000   1.8\n27       8         14        0.0000   1.8\n28       8         13        0.0000   1.8\n29       8         12        0.0000   1.8\n30       8         11        0.0000   1.8\n31       8          8        0.0000   1.8\n32       8          7        0.0000   1.8\n"
     ]
    }
   ],
   "source": [
    "cursor.execute(f\"SELECT UserID, FoodTagID, RightSwipePercent FROM FoodOpinionRightSwipePercent WHERE UserID IN ({','.join(ids_to_get)});\")\n",
    "result = cursor.fetchall()\n",
    "df = pd.DataFrame(result)\n",
    "df.columns = [\"UserID\", \"FoodTagID\", \"RightSwipePct\"]\n",
    "similarities = []\n",
    "for row in df.iterrows():\n",
    "    id = row[1][0]\n",
    "    similarities.append(count_dict[id] / 5)\n",
    "\n",
    "df[\"Bias\"] = similarities\n",
    "print(df)"
   ]
  },
  {
   "cell_type": "markdown",
   "metadata": {},
   "source": [
    "## We've got the data, now time to shove it into a user array"
   ]
  },
  {
   "cell_type": "code",
   "execution_count": 10,
   "metadata": {},
   "outputs": [],
   "source": [
    "from user import User\n",
    "user_data = []\n",
    "for user_id in ids_to_get:\n",
    "    # For each user id in the one's we want to get\n",
    "    # Extract that part of the dataframe, and create a new user object from it\n",
    "    user_data.append(User(df[df[\"UserID\"] == int(user_id)]))\n"
   ]
  },
  {
   "cell_type": "code",
   "execution_count": 11,
   "metadata": {},
   "outputs": [
    {
     "output_type": "stream",
     "name": "stdout",
     "text": [
      "Done in 309.1228 seconds\n"
     ]
    }
   ],
   "source": [
    "\n",
    "\n",
    "end = time.perf_counter()\n",
    "print(f\"Done in {end - start:0.4f} seconds\")\n",
    "\n"
   ]
  },
  {
   "cell_type": "code",
   "execution_count": 12,
   "metadata": {},
   "outputs": [
    {
     "output_type": "stream",
     "name": "stdout",
     "text": [
      "ID: 8 \t Bias: 1.8 \nFood Tags: [[2, Decimal('1.9333')], [4, Decimal('1.6500')], [32, Decimal('1.6400')], [36, Decimal('0.8000')], [1, Decimal('0.7333')], [21, Decimal('0.5610')], [20, Decimal('0.5000')], [34, Decimal('0.4000')], [33, Decimal('0.4000')], [18, Decimal('0.4000')], [9, Decimal('0.2385')], [27, Decimal('0.2000')], [28, Decimal('0.0930')], [25, Decimal('0.0000')], [22, Decimal('0.0000')], [26, Decimal('0.0000')], [29, Decimal('0.0000')], [30, Decimal('0.0000')], [31, Decimal('0.0000')], [5, Decimal('0.0000')], [35, Decimal('0.0000')], [24, Decimal('0.0000')], [23, Decimal('0.0000')], [6, Decimal('0.0000')], [17, Decimal('0.0000')], [16, Decimal('0.0000')], [15, Decimal('0.0000')], [14, Decimal('0.0000')], [13, Decimal('0.0000')], [12, Decimal('0.0000')], [11, Decimal('0.0000')], [8, Decimal('0.0000')], [7, Decimal('0.0000')]]\n"
     ]
    }
   ],
   "source": [
    " for user in user_data:\n",
    "     user.print()"
   ]
  },
  {
   "cell_type": "code",
   "execution_count": null,
   "metadata": {},
   "outputs": [],
   "source": []
  }
 ],
 "metadata": {
  "kernelspec": {
   "display_name": "Python 3",
   "language": "python",
   "name": "python3"
  },
  "language_info": {
   "codemirror_mode": {
    "name": "ipython",
    "version": 3
   },
   "file_extension": ".py",
   "mimetype": "text/x-python",
   "name": "python",
   "nbconvert_exporter": "python",
   "pygments_lexer": "ipython3",
   "version": "3.9.4"
  }
 },
 "nbformat": 4,
 "nbformat_minor": 4
}
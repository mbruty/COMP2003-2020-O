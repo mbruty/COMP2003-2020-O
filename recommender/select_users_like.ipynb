{
 "cells": [
  {
   "cell_type": "code",
   "execution_count": 1,
   "metadata": {},
   "outputs": [],
   "source": [
    "from mysql_connection import get_cursor\n",
    "import time\n",
    "import pandas as pd\n",
    "import numpy as np\n",
    "\n",
    "cursor = get_cursor()\n",
    "# Start the timer\n",
    "start = time.perf_counter()"
   ]
  },
  {
   "cell_type": "markdown",
   "metadata": {},
   "source": [
    "## Call get food checks by id with the user id"
   ]
  },
  {
   "cell_type": "code",
   "execution_count": 2,
   "metadata": {},
   "outputs": [
    {
     "name": "stdout",
     "output_type": "stream",
     "text": [
      "(0, 0, 0, 0, 1, 1, 1, 1, 1)\n"
     ]
    }
   ],
   "source": [
    "user_id = (1,)\n",
    "foodchecks = cursor.callproc(\"get_foodchecks_by_id\", user_id)\n",
    "checks = []\n",
    "# stored_results is iterable, have to do this way\n",
    "for result in cursor.stored_results():\n",
    "    checks = result.fetchall()[0][1:]\n",
    "\n",
    "print(checks)"
   ]
  },
  {
   "cell_type": "markdown",
   "metadata": {},
   "source": [
    "## Parse all the results, and create the WHERE clause"
   ]
  },
  {
   "cell_type": "code",
   "execution_count": 3,
   "metadata": {},
   "outputs": [
    {
     "name": "stdout",
     "output_type": "stream",
     "text": [
      "IsVegetarian : 0\n",
      "IsVegan : 0\n",
      "IsHalal : 0\n",
      "IsKosher : 0\n",
      "HasLactose : 1\n",
      "HasNuts : 1\n",
      "HasGluten : 1\n",
      "HasEgg : 1\n",
      "HasSoy : 1\n",
      "---------------------------------\n",
      "HasLactose=1 AND HasNuts=1 AND HasGluten=1 AND HasEgg=1 AND HasSoy=1\n"
     ]
    }
   ],
   "source": [
    "column_rows = [\"IsVegetarian\", \"IsVegan\", \"IsHalal\", \"IsKosher\", \"HasLactose\", \"HasNuts\", \"HasGluten\", \"HasEgg\", \"HasSoy\"]\n",
    "\n",
    "def print_food_checks(result) :\n",
    "    for i in range(len(result)):\n",
    "        print(f\"{column_rows[i]} : {result[i]}\")\n",
    "\n",
    "print_food_checks(checks)\n",
    "\n",
    "def food_checks_builder(result):\n",
    "    food_checks = []\n",
    "    for i in range(len(result)):\n",
    "        if(result[i]):\n",
    "            food_checks.append(f\"{column_rows[i]}=1\")\n",
    "    return \" AND \".join(food_checks)\n",
    "\n",
    "print(\"---------------------------------\")\n",
    "print(food_checks_builder(checks))"
   ]
  },
  {
   "cell_type": "markdown",
   "metadata": {},
   "source": [
    "## Get the user's most liked and disliked items\n"
   ]
  },
  {
   "cell_type": "code",
   "execution_count": 4,
   "metadata": {},
   "outputs": [
    {
     "name": "stdout",
     "output_type": "stream",
     "text": [
      "['4', '9', '2', '1', '7', '8', '5', '11', '12', '3']\n"
     ]
    }
   ],
   "source": [
    "cursor.execute(f\"SELECT FoodTagID FROM FoodOpinionRightSwipePercent WHERE UserID={user_id[0]};\")\n",
    "result = cursor.fetchall()\n",
    "food_tags = [str(i[0]) for i in result[:5] + result[-5:]]\n",
    "print(food_tags)"
   ]
  },
  {
   "cell_type": "markdown",
   "metadata": {},
   "source": [
    "## Get all the user id's with at least the food checks that you have\n",
    "### i.e. You are vegetarian... Some one who is vegetarian, egg-free, and lactose-free will also be selected "
   ]
  },
  {
   "cell_type": "code",
   "execution_count": 5,
   "metadata": {},
   "outputs": [
    {
     "name": "stdout",
     "output_type": "stream",
     "text": [
      "   0   1       2\n",
      "0  2   7  1.9806\n",
      "1  2   2  1.7647\n",
      "2  2   9  1.7391\n",
      "3  2   1  1.6667\n",
      "4  2   8  0.8000\n",
      "5  2  12  0.7317\n",
      "6  2   4  0.5455\n",
      "7  2   5  0.5000\n",
      "8  2   3  0.4000\n",
      "9  2  11  0.3636\n"
     ]
    }
   ],
   "source": [
    "cursor.execute(f\"SELECT UserID, FoodTagID, RightSwipePercent FROM FoodOpinionRightSwipePercent WHERE UserID IN(SELECT UserID FROM tat.UserFoodCheckView WHERE {food_checks_builder(checks)} AND UserID<>{user_id[0]}) AND FoodTagID IN ({','.join(food_tags)});\")\n",
    "result = cursor.fetchall()\n",
    "print(pd.DataFrame(result))"
   ]
  },
  {
   "cell_type": "code",
   "execution_count": 6,
   "metadata": {},
   "outputs": [
    {
     "name": "stdout",
     "output_type": "stream",
     "text": [
      "{4: 1.8649, 9: 1.8462, 2: 1.7647, 1: 1.6667, 7: 1.5789, 10: 1.5238, 6: 1.0909, 8: 1.0, 5: 0.8889, 11: 0.25, 12: 0.0, 3: 0.0}\n"
     ]
    }
   ],
   "source": [
    "tag_dict = {}\n",
    "cursor.execute(f\"SELECT UserID, FoodTagID, RightSwipePercent FROM FoodOpinionRightSwipePercent WHERE UserID={user_id[0]};\")\n",
    "user = cursor.fetchall()\n",
    "for row in user:\n",
    "    tag_dict[row[1]] = float(row[2])\n",
    "\n",
    "print(tag_dict)"
   ]
  },
  {
   "cell_type": "code",
   "execution_count": 7,
   "metadata": {},
   "outputs": [
    {
     "name": "stdout",
     "output_type": "stream",
     "text": [
      "{55: 2, 2: 5}\n",
      "['2']\n"
     ]
    }
   ],
   "source": [
    "ptr = 0\n",
    "count_dict = {55: 2}\n",
    "TOLERANCE = 0.3\n",
    "\n",
    "# Go through all results, and count how many tags are within the tolerance\n",
    "for row in result:\n",
    "    user_val = tag_dict[row[1]]\n",
    "    # Within the user's swipe percentage + / - 0.3\n",
    "    if user_val - TOLERANCE <= row[2] <= user_val + TOLERANCE:\n",
    "        try:\n",
    "            count = count_dict[row[0]]\n",
    "            count_dict[row[0]] = count + 1\n",
    "        except:\n",
    "            count_dict[row[0]] = 1\n",
    "\n",
    "ids_to_get = []\n",
    "\n",
    "print(count_dict)\n",
    "for user in count_dict.items():\n",
    "    if(user[1] >= 5):\n",
    "        ids_to_get.append(str(user[0]))\n",
    "\n",
    "print(ids_to_get)"
   ]
  },
  {
   "cell_type": "code",
   "execution_count": 8,
   "metadata": {},
   "outputs": [
    {
     "name": "stdout",
     "output_type": "stream",
     "text": [
      "    UserID  FoodTagID RightSwipePct  Bias\n",
      "0        2          7        1.9806   1.0\n",
      "1        2          2        1.7647   1.0\n",
      "2        2          9        1.7391   1.0\n",
      "3        2          1        1.6667   1.0\n",
      "4        2          6        1.0769   1.0\n",
      "5        2          8        0.8000   1.0\n",
      "6        2         12        0.7317   1.0\n",
      "7        2          4        0.5455   1.0\n",
      "8        2          5        0.5000   1.0\n",
      "9        2          3        0.4000   1.0\n",
      "10       2         11        0.3636   1.0\n",
      "11       2         10        0.0000   1.0\n"
     ]
    }
   ],
   "source": [
    "cursor.execute(f\"SELECT UserID, FoodTagID, RightSwipePercent FROM FoodOpinionRightSwipePercent WHERE UserID IN ({','.join(ids_to_get)});\")\n",
    "result = cursor.fetchall()\n",
    "df = pd.DataFrame(result)\n",
    "df.columns = [\"UserID\", \"FoodTagID\", \"RightSwipePct\"]\n",
    "similarities = []\n",
    "for row in df.iterrows():\n",
    "    id = row[1][0]\n",
    "    similarities.append(count_dict[id] / 5)\n",
    "\n",
    "df[\"Bias\"] = similarities\n",
    "print(df)"
   ]
  },
  {
   "cell_type": "markdown",
   "metadata": {},
   "source": [
    "## We've got the data, now time to shove it into a user array"
   ]
  },
  {
   "cell_type": "code",
   "execution_count": 9,
   "metadata": {},
   "outputs": [],
   "source": [
    "from user import User\n",
    "user_data = []\n",
    "for user_id in ids_to_get:\n",
    "    # For each user id in the one's we want to get\n",
    "    # Extract that part of the dataframe, and create a new user object from it\n",
    "    user_data.append(User(df[df[\"UserID\"] == int(user_id)]))\n"
   ]
  },
  {
   "cell_type": "code",
   "execution_count": 10,
   "metadata": {},
   "outputs": [
    {
     "name": "stdout",
     "output_type": "stream",
     "text": [
      "Done in 0.2203 seconds\n"
     ]
    }
   ],
   "source": [
    "\n",
    "\n",
    "end = time.perf_counter()\n",
    "print(f\"Done in {end - start:0.4f} seconds\")\n",
    "\n"
   ]
  },
  {
   "cell_type": "code",
   "execution_count": null,
   "metadata": {},
   "outputs": [],
   "source": []
  },
  {
   "cell_type": "code",
   "execution_count": null,
   "metadata": {},
   "outputs": [],
   "source": []
  }
 ],
 "metadata": {
  "kernelspec": {
   "display_name": "Python 3",
   "language": "python",
   "name": "python3"
  },
  "language_info": {
   "codemirror_mode": {
    "name": "ipython",
    "version": 3
   },
   "file_extension": ".py",
   "mimetype": "text/x-python",
   "name": "python",
   "nbconvert_exporter": "python",
   "pygments_lexer": "ipython3",
   "version": "3.9.2"
  }
 },
 "nbformat": 4,
 "nbformat_minor": 4
}

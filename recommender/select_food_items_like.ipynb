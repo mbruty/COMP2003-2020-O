{
 "cells": [
  {
   "cell_type": "code",
   "execution_count": 1,
   "id": "embedded-upset",
   "metadata": {},
   "outputs": [],
   "source": [
    "from mysql_connection import get_cursor\n",
    "import time\n",
    "import pandas as pd\n",
    "import numpy as np\n",
    "from FoodItem import FoodItem\n",
    "\n",
    "\n",
    "cursor = get_cursor()\n",
    "# Start the timer\n",
    "start = time.perf_counter()"
   ]
  },
  {
   "cell_type": "code",
   "execution_count": 2,
   "id": "terminal-egypt",
   "metadata": {},
   "outputs": [
    {
     "output_type": "stream",
     "name": "stdout",
     "text": [
      "(0, 0, 0, 0, 1, 1, 1, 1, 1)\n"
     ]
    }
   ],
   "source": [
    "user_id = (2,)\n",
    "foodchecks = cursor.callproc(\"GetFoodChecksByID\", user_id)\n",
    "checks = []\n",
    "# stored_results is iterable, have to do this way\n",
    "for result in cursor.stored_results():\n",
    "    checks = result.fetchall()[0][1:]\n",
    "\n",
    "print(checks)"
   ]
  },
  {
   "cell_type": "code",
   "execution_count": 3,
   "id": "incomplete-nebraska",
   "metadata": {},
   "outputs": [
    {
     "output_type": "stream",
     "name": "stdout",
     "text": [
      "    RestaurantID  IsVegetarian  IsVegan  IsHalal  IsKosher  HasLactose  \\\n0              1             0        0        0         0           1   \n1              1             0        0        0         0           1   \n2              1             0        0        0         0           1   \n3              1             0        0        0         0           1   \n4              1             0        0        0         0           1   \n..           ...           ...      ...      ...       ...         ...   \n75             6             0        0        0         0           1   \n76             6             0        0        0         0           1   \n77             6             0        0        0         0           1   \n78             6             0        0        0         0           1   \n79             6             0        0        0         0           1   \n\n    HasNuts  HasGluten  HasEgg  HasSoy  FoodID                  FoodName  \\\n0         1          1       1       1       1             Vegan Calzone   \n1         1          1       1       1       1             Vegan Calzone   \n2         1          1       1       1       1             Vegan Calzone   \n3         1          1       1       1      44  Sweet Fire Caulliflower    \n4         1          1       1       1      45              Reverse Pizz   \n..      ...        ...     ...     ...     ...                       ...   \n75        1          1       1       1      56               Crispy Fish   \n76        1          1       1       1      57            Seafood Bucket   \n77        1          1       1       1      58         Panang Fish Curry   \n78        1          1       1       1      59         Stir fried Prawns   \n79        1          1       1       1      60                  The Fish   \n\n         FoodNameShort  IsChildMenu  FoodTagID  \n0        Vegan Calzone            0          1  \n1        Vegan Calzone            0          2  \n2        Vegan Calzone            0          4  \n3   Fire Caulliflower             0         21  \n4        Reverse Pizza            0          2  \n..                 ...          ...        ...  \n75          Crisp Fish            0         21  \n76              Bucket            0          9  \n77        Panang Curry            0          9  \n78         Stir Prawns            0          9  \n79            The Fish            0          9  \n\n[80 rows x 15 columns]\n"
     ]
    }
   ],
   "source": [
    "incoming_data = {\"latitude\": \"50.397120\", \"longitude\": \"-4.036932\", \"max-distance\": \"10\", \"isForChild\": 0}\n",
    "foodchecks = cursor.callproc(\"GetRestaurantsWithinDistance\", (incoming_data[\"latitude\"], incoming_data[\"longitude\"], incoming_data[\"max-distance\"]))\n",
    "df = None\n",
    "\n",
    "for result in cursor.stored_results():\n",
    "    df = pd.DataFrame(result)\n",
    "\n",
    "if(df.size < 1):\n",
    "    raise Exception(\"No restaurants found within specified distance\")\n",
    "df.columns = [\"RestaurantID\", \"IsVegetarian\", \"IsVegan\", \"IsHalal\", \"IsKosher\", \"HasLactose\", \"HasNuts\", \"HasGluten\", \"HasEgg\", \"HasSoy\", \"FoodID\", \"FoodName\", \"FoodNameShort\", \"IsChildMenu\", \"FoodTagID\"]\n",
    "print(df)"
   ]
  },
  {
   "cell_type": "code",
   "execution_count": 4,
   "id": "consistent-heather",
   "metadata": {},
   "outputs": [],
   "source": [
    "if checks[0]:\n",
    "    df = df.drop(df[df[\"IsVegetarian\"] != checks[0]].index)\n",
    "if checks[1]:\n",
    "    df = df.drop(df[df[\"IsVegan\"] != checks[1]].index)\n",
    "if checks[2]:\n",
    "    df = df.drop(df[df[\"IsHalal\"] != checks[2]].index)\n",
    "if checks[3]:\n",
    "    df = df.drop(df[df[\"IsKosher\"] != checks[3]].index)\n",
    "if checks[4]:\n",
    "    df = df.drop(df[df[\"HasLactose\"] != checks[4]].index)\n",
    "if checks[5]:\n",
    "    df = df.drop(df[df[\"HasNuts\"] != checks[5]].index)\n",
    "if checks[6]:\n",
    "    df = df.drop(df[df[\"HasGluten\"] != checks[6]].index)\n",
    "if checks[7]:\n",
    "    df = df.drop(df[df[\"HasEgg\"] != checks[7]].index)\n",
    "if checks[8]:\n",
    "    df = df.drop(df[df[\"HasSoy\"] != checks[8]].index)\n",
    "if incoming_data[\"isForChild\"]:\n",
    "    df = df.drop(df[df[\"IsChildMenu\"] != 1].index)"
   ]
  },
  {
   "cell_type": "code",
   "execution_count": 5,
   "id": "supposed-tulsa",
   "metadata": {},
   "outputs": [
    {
     "output_type": "execute_result",
     "data": {
      "text/plain": [
       "    RestaurantID  IsVegetarian  IsVegan  IsHalal  IsKosher  HasLactose  \\\n",
       "0              1             0        0        0         0           1   \n",
       "1              1             0        0        0         0           1   \n",
       "2              1             0        0        0         0           1   \n",
       "3              1             0        0        0         0           1   \n",
       "4              1             0        0        0         0           1   \n",
       "..           ...           ...      ...      ...       ...         ...   \n",
       "75             6             0        0        0         0           1   \n",
       "76             6             0        0        0         0           1   \n",
       "77             6             0        0        0         0           1   \n",
       "78             6             0        0        0         0           1   \n",
       "79             6             0        0        0         0           1   \n",
       "\n",
       "    HasNuts  HasGluten  HasEgg  HasSoy  FoodID                  FoodName  \\\n",
       "0         1          1       1       1       1             Vegan Calzone   \n",
       "1         1          1       1       1       1             Vegan Calzone   \n",
       "2         1          1       1       1       1             Vegan Calzone   \n",
       "3         1          1       1       1      44  Sweet Fire Caulliflower    \n",
       "4         1          1       1       1      45              Reverse Pizz   \n",
       "..      ...        ...     ...     ...     ...                       ...   \n",
       "75        1          1       1       1      56               Crispy Fish   \n",
       "76        1          1       1       1      57            Seafood Bucket   \n",
       "77        1          1       1       1      58         Panang Fish Curry   \n",
       "78        1          1       1       1      59         Stir fried Prawns   \n",
       "79        1          1       1       1      60                  The Fish   \n",
       "\n",
       "         FoodNameShort  IsChildMenu  FoodTagID  \n",
       "0        Vegan Calzone            0          1  \n",
       "1        Vegan Calzone            0          2  \n",
       "2        Vegan Calzone            0          4  \n",
       "3   Fire Caulliflower             0         21  \n",
       "4        Reverse Pizza            0          2  \n",
       "..                 ...          ...        ...  \n",
       "75          Crisp Fish            0         21  \n",
       "76              Bucket            0          9  \n",
       "77        Panang Curry            0          9  \n",
       "78         Stir Prawns            0          9  \n",
       "79            The Fish            0          9  \n",
       "\n",
       "[80 rows x 15 columns]"
      ],
      "text/html": "<div>\n<style scoped>\n    .dataframe tbody tr th:only-of-type {\n        vertical-align: middle;\n    }\n\n    .dataframe tbody tr th {\n        vertical-align: top;\n    }\n\n    .dataframe thead th {\n        text-align: right;\n    }\n</style>\n<table border=\"1\" class=\"dataframe\">\n  <thead>\n    <tr style=\"text-align: right;\">\n      <th></th>\n      <th>RestaurantID</th>\n      <th>IsVegetarian</th>\n      <th>IsVegan</th>\n      <th>IsHalal</th>\n      <th>IsKosher</th>\n      <th>HasLactose</th>\n      <th>HasNuts</th>\n      <th>HasGluten</th>\n      <th>HasEgg</th>\n      <th>HasSoy</th>\n      <th>FoodID</th>\n      <th>FoodName</th>\n      <th>FoodNameShort</th>\n      <th>IsChildMenu</th>\n      <th>FoodTagID</th>\n    </tr>\n  </thead>\n  <tbody>\n    <tr>\n      <th>0</th>\n      <td>1</td>\n      <td>0</td>\n      <td>0</td>\n      <td>0</td>\n      <td>0</td>\n      <td>1</td>\n      <td>1</td>\n      <td>1</td>\n      <td>1</td>\n      <td>1</td>\n      <td>1</td>\n      <td>Vegan Calzone</td>\n      <td>Vegan Calzone</td>\n      <td>0</td>\n      <td>1</td>\n    </tr>\n    <tr>\n      <th>1</th>\n      <td>1</td>\n      <td>0</td>\n      <td>0</td>\n      <td>0</td>\n      <td>0</td>\n      <td>1</td>\n      <td>1</td>\n      <td>1</td>\n      <td>1</td>\n      <td>1</td>\n      <td>1</td>\n      <td>Vegan Calzone</td>\n      <td>Vegan Calzone</td>\n      <td>0</td>\n      <td>2</td>\n    </tr>\n    <tr>\n      <th>2</th>\n      <td>1</td>\n      <td>0</td>\n      <td>0</td>\n      <td>0</td>\n      <td>0</td>\n      <td>1</td>\n      <td>1</td>\n      <td>1</td>\n      <td>1</td>\n      <td>1</td>\n      <td>1</td>\n      <td>Vegan Calzone</td>\n      <td>Vegan Calzone</td>\n      <td>0</td>\n      <td>4</td>\n    </tr>\n    <tr>\n      <th>3</th>\n      <td>1</td>\n      <td>0</td>\n      <td>0</td>\n      <td>0</td>\n      <td>0</td>\n      <td>1</td>\n      <td>1</td>\n      <td>1</td>\n      <td>1</td>\n      <td>1</td>\n      <td>44</td>\n      <td>Sweet Fire Caulliflower</td>\n      <td>Fire Caulliflower</td>\n      <td>0</td>\n      <td>21</td>\n    </tr>\n    <tr>\n      <th>4</th>\n      <td>1</td>\n      <td>0</td>\n      <td>0</td>\n      <td>0</td>\n      <td>0</td>\n      <td>1</td>\n      <td>1</td>\n      <td>1</td>\n      <td>1</td>\n      <td>1</td>\n      <td>45</td>\n      <td>Reverse Pizz</td>\n      <td>Reverse Pizza</td>\n      <td>0</td>\n      <td>2</td>\n    </tr>\n    <tr>\n      <th>...</th>\n      <td>...</td>\n      <td>...</td>\n      <td>...</td>\n      <td>...</td>\n      <td>...</td>\n      <td>...</td>\n      <td>...</td>\n      <td>...</td>\n      <td>...</td>\n      <td>...</td>\n      <td>...</td>\n      <td>...</td>\n      <td>...</td>\n      <td>...</td>\n      <td>...</td>\n    </tr>\n    <tr>\n      <th>75</th>\n      <td>6</td>\n      <td>0</td>\n      <td>0</td>\n      <td>0</td>\n      <td>0</td>\n      <td>1</td>\n      <td>1</td>\n      <td>1</td>\n      <td>1</td>\n      <td>1</td>\n      <td>56</td>\n      <td>Crispy Fish</td>\n      <td>Crisp Fish</td>\n      <td>0</td>\n      <td>21</td>\n    </tr>\n    <tr>\n      <th>76</th>\n      <td>6</td>\n      <td>0</td>\n      <td>0</td>\n      <td>0</td>\n      <td>0</td>\n      <td>1</td>\n      <td>1</td>\n      <td>1</td>\n      <td>1</td>\n      <td>1</td>\n      <td>57</td>\n      <td>Seafood Bucket</td>\n      <td>Bucket</td>\n      <td>0</td>\n      <td>9</td>\n    </tr>\n    <tr>\n      <th>77</th>\n      <td>6</td>\n      <td>0</td>\n      <td>0</td>\n      <td>0</td>\n      <td>0</td>\n      <td>1</td>\n      <td>1</td>\n      <td>1</td>\n      <td>1</td>\n      <td>1</td>\n      <td>58</td>\n      <td>Panang Fish Curry</td>\n      <td>Panang Curry</td>\n      <td>0</td>\n      <td>9</td>\n    </tr>\n    <tr>\n      <th>78</th>\n      <td>6</td>\n      <td>0</td>\n      <td>0</td>\n      <td>0</td>\n      <td>0</td>\n      <td>1</td>\n      <td>1</td>\n      <td>1</td>\n      <td>1</td>\n      <td>1</td>\n      <td>59</td>\n      <td>Stir fried Prawns</td>\n      <td>Stir Prawns</td>\n      <td>0</td>\n      <td>9</td>\n    </tr>\n    <tr>\n      <th>79</th>\n      <td>6</td>\n      <td>0</td>\n      <td>0</td>\n      <td>0</td>\n      <td>0</td>\n      <td>1</td>\n      <td>1</td>\n      <td>1</td>\n      <td>1</td>\n      <td>1</td>\n      <td>60</td>\n      <td>The Fish</td>\n      <td>The Fish</td>\n      <td>0</td>\n      <td>9</td>\n    </tr>\n  </tbody>\n</table>\n<p>80 rows × 15 columns</p>\n</div>"
     },
     "metadata": {},
     "execution_count": 5
    }
   ],
   "source": [
    "df"
   ]
  },
  {
   "cell_type": "code",
   "execution_count": 6,
   "id": "demanding-federation",
   "metadata": {},
   "outputs": [],
   "source": [
    "food_items = []\n",
    "\n",
    "for food_id in df.FoodID.unique():\n",
    "    # For each unique food id\n",
    "    # Extract that part of the dataframe, and create a new food item from it\n",
    "    food_items.append(FoodItem(df[df[\"FoodID\"] == food_id]))"
   ]
  },
  {
   "cell_type": "code",
   "execution_count": 7,
   "id": "related-membership",
   "metadata": {},
   "outputs": [
    {
     "output_type": "stream",
     "name": "stdout",
     "text": [
      "Done in 0.3281 seconds\n"
     ]
    }
   ],
   "source": [
    "end = time.perf_counter()\n",
    "print(f\"Done in {end - start:0.4f} seconds\")"
   ]
  },
  {
   "cell_type": "code",
   "execution_count": 8,
   "id": "preceding-relevance",
   "metadata": {},
   "outputs": [
    {
     "output_type": "stream",
     "name": "stdout",
     "text": [
      "ID: 1 - (<class 'int'>)\nFoodTags: [1, 2, 4] - (<class 'list'>)\nRestaurant ID: 1\nID: 44 - (<class 'int'>)\nFoodTags: [21] - (<class 'list'>)\nRestaurant ID: 1\nID: 45 - (<class 'int'>)\nFoodTags: [2, 4] - (<class 'list'>)\nRestaurant ID: 1\nID: 46 - (<class 'int'>)\nFoodTags: [32] - (<class 'list'>)\nRestaurant ID: 1\nID: 47 - (<class 'int'>)\nFoodTags: [4, 32] - (<class 'list'>)\nRestaurant ID: 1\nID: 48 - (<class 'int'>)\nFoodTags: [1, 6, 7, 8] - (<class 'list'>)\nRestaurant ID: 1\nID: 49 - (<class 'int'>)\nFoodTags: [1, 27] - (<class 'list'>)\nRestaurant ID: 1\nID: 50 - (<class 'int'>)\nFoodTags: [21, 32] - (<class 'list'>)\nRestaurant ID: 1\nID: 2 - (<class 'int'>)\nFoodTags: [5, 6, 7, 8] - (<class 'list'>)\nRestaurant ID: 2\nID: 5 - (<class 'int'>)\nFoodTags: [9, 11, 12] - (<class 'list'>)\nRestaurant ID: 2\nID: 6 - (<class 'int'>)\nFoodTags: [13, 15, 16, 17] - (<class 'list'>)\nRestaurant ID: 2\nID: 7 - (<class 'int'>)\nFoodTags: [18, 20, 21] - (<class 'list'>)\nRestaurant ID: 2\nID: 8 - (<class 'int'>)\nFoodTags: [14, 22, 23, 24] - (<class 'list'>)\nRestaurant ID: 2\nID: 10 - (<class 'int'>)\nFoodTags: [5, 7, 8, 25, 26] - (<class 'list'>)\nRestaurant ID: 2\nID: 22 - (<class 'int'>)\nFoodTags: [30, 31, 35] - (<class 'list'>)\nRestaurant ID: 5\nID: 23 - (<class 'int'>)\nFoodTags: [2] - (<class 'list'>)\nRestaurant ID: 5\nID: 24 - (<class 'int'>)\nFoodTags: [9, 20, 21, 32] - (<class 'list'>)\nRestaurant ID: 5\nID: 25 - (<class 'int'>)\nFoodTags: [33, 34] - (<class 'list'>)\nRestaurant ID: 5\nID: 26 - (<class 'int'>)\nFoodTags: [4, 9, 18, 21, 32, 36] - (<class 'list'>)\nRestaurant ID: 5\nID: 13 - (<class 'int'>)\nFoodTags: [27, 28] - (<class 'list'>)\nRestaurant ID: 5\nID: 16 - (<class 'int'>)\nFoodTags: [28] - (<class 'list'>)\nRestaurant ID: 5\nID: 18 - (<class 'int'>)\nFoodTags: [11, 20, 28] - (<class 'list'>)\nRestaurant ID: 5\nID: 20 - (<class 'int'>)\nFoodTags: [28] - (<class 'list'>)\nRestaurant ID: 5\nID: 21 - (<class 'int'>)\nFoodTags: [28, 29] - (<class 'list'>)\nRestaurant ID: 5\nID: 51 - (<class 'int'>)\nFoodTags: [9, 21] - (<class 'list'>)\nRestaurant ID: 6\nID: 52 - (<class 'int'>)\nFoodTags: [9, 21] - (<class 'list'>)\nRestaurant ID: 6\nID: 53 - (<class 'int'>)\nFoodTags: [9] - (<class 'list'>)\nRestaurant ID: 6\nID: 54 - (<class 'int'>)\nFoodTags: [9] - (<class 'list'>)\nRestaurant ID: 6\nID: 55 - (<class 'int'>)\nFoodTags: [9, 21] - (<class 'list'>)\nRestaurant ID: 6\nID: 56 - (<class 'int'>)\nFoodTags: [9, 20, 21] - (<class 'list'>)\nRestaurant ID: 6\nID: 57 - (<class 'int'>)\nFoodTags: [9] - (<class 'list'>)\nRestaurant ID: 6\nID: 58 - (<class 'int'>)\nFoodTags: [9] - (<class 'list'>)\nRestaurant ID: 6\nID: 59 - (<class 'int'>)\nFoodTags: [9] - (<class 'list'>)\nRestaurant ID: 6\nID: 60 - (<class 'int'>)\nFoodTags: [9] - (<class 'list'>)\nRestaurant ID: 6\n"
     ]
    }
   ],
   "source": [
    "for food_item in food_items:\n",
    "    food_item.printInfo()"
   ]
  }
 ],
 "metadata": {
  "kernelspec": {
   "display_name": "Python 3",
   "language": "python",
   "name": "python3"
  },
  "language_info": {
   "codemirror_mode": {
    "name": "ipython",
    "version": 3
   },
   "file_extension": ".py",
   "mimetype": "text/x-python",
   "name": "python",
   "nbconvert_exporter": "python",
   "pygments_lexer": "ipython3",
   "version": "3.9.4"
  }
 },
 "nbformat": 4,
 "nbformat_minor": 5
}
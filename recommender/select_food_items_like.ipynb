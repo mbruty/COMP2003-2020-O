{
 "cells": [
  {
   "cell_type": "code",
   "execution_count": 1,
   "id": "embedded-upset",
   "metadata": {},
   "outputs": [],
   "source": [
    "from mysql_connection import get_cursor\n",
    "import time\n",
    "import pandas as pd\n",
    "import numpy as np\n",
    "from FoodItem import FoodItem\n",
    "\n",
    "\n",
    "cursor = get_cursor()\n",
    "# Start the timer\n",
    "start = time.perf_counter()"
   ]
  },
  {
   "cell_type": "code",
   "execution_count": 2,
   "id": "terminal-egypt",
   "metadata": {},
   "outputs": [
    {
     "output_type": "stream",
     "name": "stdout",
     "text": [
      "(0, 0, 0, 0, 1, 1, 1, 1, 1)\n"
     ]
    }
   ],
   "source": [
    "user_id = (1,)\n",
    "foodchecks = cursor.callproc(\"GetFoodChecksByID\", user_id)\n",
    "checks = []\n",
    "# stored_results is iterable, have to do this way\n",
    "for result in cursor.stored_results():\n",
    "    checks = result.fetchall()[0][1:]\n",
    "\n",
    "print(checks)"
   ]
  },
  {
   "cell_type": "code",
   "execution_count": 13,
   "id": "incomplete-nebraska",
   "metadata": {},
   "outputs": [
    {
     "output_type": "stream",
     "name": "stdout",
     "text": [
      "    RestaurantID  IsVegetarian  IsVegan  IsHalal  IsKosher  HasLactose  \\\n0              2             0        0        0         0           1   \n1              2             0        0        0         0           1   \n2              2             0        0        0         0           1   \n3              2             0        0        0         0           1   \n4              2             0        0        0         0           1   \n5              2             0        0        0         0           1   \n6              2             0        0        0         0           1   \n7              2             0        0        0         0           1   \n8              2             0        0        0         0           1   \n9              2             0        0        0         0           1   \n10             2             0        0        0         0           1   \n11             2             0        0        0         0           1   \n12             2             0        0        0         0           1   \n13             2             0        0        0         0           1   \n14             2             0        0        0         0           1   \n15             2             0        0        0         0           1   \n16             2             0        0        0         0           1   \n17             2             0        0        0         0           1   \n18             2             0        0        0         0           1   \n19             2             0        0        0         0           1   \n20             2             0        0        0         0           1   \n21             2             0        0        0         0           1   \n22             2             0        0        0         0           1   \n23             5             0        0        0         0           1   \n24             5             0        0        0         0           1   \n25             5             0        0        0         0           1   \n26             5             0        0        0         0           1   \n27             5             0        0        0         0           1   \n28             5             0        0        0         0           1   \n29             5             0        0        0         0           1   \n30             5             0        0        0         0           1   \n31             5             0        0        0         0           1   \n32             5             0        0        0         0           1   \n33             5             0        0        0         0           1   \n34             5             0        0        0         0           1   \n35             5             0        0        0         0           1   \n36             5             0        0        0         0           1   \n37             5             0        0        0         0           1   \n38             5             0        0        0         0           1   \n39             5             0        0        0         0           1   \n40             5             0        0        0         0           1   \n41             5             0        0        0         0           1   \n42             5             0        0        0         0           1   \n\n    HasNuts  HasGluten  HasEgg  HasSoy  FoodID  \\\n0         1          1       1       1       2   \n1         1          1       1       1       2   \n2         1          1       1       1       2   \n3         1          1       1       1       2   \n4         1          1       1       1       5   \n5         1          1       1       1       5   \n6         1          1       1       1       5   \n7         1          1       1       1       6   \n8         1          1       1       1       6   \n9         1          1       1       1       6   \n10        1          1       1       1       6   \n11        1          1       1       1       7   \n12        1          1       1       1       7   \n13        1          1       1       1       7   \n14        1          1       1       1       8   \n15        1          1       1       1       8   \n16        1          1       1       1       8   \n17        1          1       1       1       8   \n18        1          1       1       1      10   \n19        1          1       1       1      10   \n20        1          1       1       1      10   \n21        1          1       1       1      10   \n22        1          1       1       1      10   \n23        1          1       1       1      22   \n24        1          1       1       1      22   \n25        1          1       1       1      22   \n26        1          1       1       1      23   \n27        1          1       1       1      24   \n28        1          1       1       1      25   \n29        1          1       1       1      25   \n30        1          1       1       1      26   \n31        1          1       1       1      26   \n32        1          1       1       1      26   \n33        1          1       1       1      26   \n34        1          1       1       1      13   \n35        1          1       1       1      13   \n36        1          1       1       1      16   \n37        1          1       1       1      18   \n38        1          1       1       1      18   \n39        1          1       1       1      18   \n40        1          1       1       1      20   \n41        1          1       1       1      21   \n42        1          1       1       1      21   \n\n                             FoodName    FoodNameShort  IsChildMenu  FoodTagID  \n0                 Chicken Katsu Curry      Katsu Curry            0          5  \n1                 Chicken Katsu Curry      Katsu Curry            0          6  \n2                 Chicken Katsu Curry      Katsu Curry            0          7  \n3                 Chicken Katsu Curry      Katsu Curry            0          8  \n4   Ackbar's Handcaught Salmon Nigiri    Salmon Nigiri            0          9  \n5   Ackbar's Handcaught Salmon Nigiri    Salmon Nigiri            0         11  \n6   Ackbar's Handcaught Salmon Nigiri    Salmon Nigiri            0         12  \n7                     Vegetable Gyoza  Vegetable Gyoza            0         13  \n8                     Vegetable Gyoza  Vegetable Gyoza            0         15  \n9                     Vegetable Gyoza  Vegetable Gyoza            0         16  \n10                    Vegetable Gyoza  Vegetable Gyoza            0         17  \n11                      Beef Teriyaki    Beef Teriyaki            0         18  \n12                      Beef Teriyaki    Beef Teriyaki            0         20  \n13                      Beef Teriyaki    Beef Teriyaki            0         21  \n14                       Avocado Maki     Avocado Maki            0         14  \n15                       Avocado Maki     Avocado Maki            0         22  \n16                       Avocado Maki     Avocado Maki            0         23  \n17                       Avocado Maki     Avocado Maki            0         24  \n18                Chicken Curry Ramen    Chicken Ramen            0          5  \n19                Chicken Curry Ramen    Chicken Ramen            0          7  \n20                Chicken Curry Ramen    Chicken Ramen            0          8  \n21                Chicken Curry Ramen    Chicken Ramen            0         25  \n22                Chicken Curry Ramen    Chicken Ramen            0         26  \n23                     Pork and Beans   Pork and Beans            0         30  \n24                     Pork and Beans   Pork and Beans            0         31  \n25                     Pork and Beans   Pork and Beans            0         35  \n26                 Denman's Own Pizza     Denman Pizza            0          2  \n27                       Mac N Cheese   Mac and Cheese            0         32  \n28                                J2O              J2O            0         33  \n29                                J2O              J2O            0         34  \n30                            Lasagne          Lasagne            0          4  \n31                            Lasagne          Lasagne            0         18  \n32                            Lasagne          Lasagne            0         32  \n33                            Lasagne          Lasagne            0         36  \n34                    The Spam Burger      Spam Burger            0         27  \n35                    The Spam Burger      Spam Burger            0         28  \n36                  The King Spamthur         Spamthur            0         28  \n37                      The Spamerlin        Spamerlin            0         11  \n38                      The Spamerlin        Spamerlin            0         20  \n39                      The Spamerlin        Spamerlin            0         28  \n40                       The Spam-Dog          Spamdog            0         28  \n41       Spam: Will it Blend? edition        SpamShake            0         28  \n42       Spam: Will it Blend? edition        SpamShake            0         29  \n"
     ]
    }
   ],
   "source": [
    "incoming_data = {\"latitude\": \"50.397120\", \"longitude\": \"-4.036932\", \"max-distance\": \"10\", \"isForChild\": 0}\n",
    "foodchecks = cursor.callproc(\"GetRestaurantsWithinDistance\", (incoming_data[\"latitude\"], incoming_data[\"longitude\"], incoming_data[\"max-distance\"]))\n",
    "df = None\n",
    "\n",
    "for result in cursor.stored_results():\n",
    "    df = pd.DataFrame(result)\n",
    "\n",
    "if(df.size < 1):\n",
    "    raise Exception(\"No restaurants found within specified distance\")\n",
    "df.columns = [\"RestaurantID\", \"IsVegetarian\", \"IsVegan\", \"IsHalal\", \"IsKosher\", \"HasLactose\", \"HasNuts\", \"HasGluten\", \"HasEgg\", \"HasSoy\", \"FoodID\", \"FoodName\", \"FoodNameShort\", \"IsChildMenu\", \"FoodTagID\"]\n",
    "print(df)"
   ]
  },
  {
   "cell_type": "code",
   "execution_count": 4,
   "id": "consistent-heather",
   "metadata": {},
   "outputs": [],
   "source": [
    "if checks[0]:\n",
    "    df = df.drop(df[df[\"IsVegetarian\"] != checks[0]].index)\n",
    "if checks[1]:\n",
    "    df = df.drop(df[df[\"IsVegan\"] != checks[1]].index)\n",
    "if checks[2]:\n",
    "    df = df.drop(df[df[\"IsHalal\"] != checks[2]].index)\n",
    "if checks[3]:\n",
    "    df = df.drop(df[df[\"IsKosher\"] != checks[3]].index)\n",
    "if checks[4]:\n",
    "    df = df.drop(df[df[\"HasLactose\"] != checks[4]].index)\n",
    "if checks[5]:\n",
    "    df = df.drop(df[df[\"HasNuts\"] != checks[5]].index)\n",
    "if checks[6]:\n",
    "    df = df.drop(df[df[\"HasGluten\"] != checks[6]].index)\n",
    "if checks[7]:\n",
    "    df = df.drop(df[df[\"HasEgg\"] != checks[7]].index)\n",
    "if checks[8]:\n",
    "    df = df.drop(df[df[\"HasSoy\"] != checks[8]].index)\n",
    "if incoming_data[\"isForChild\"]:\n",
    "    df = df.drop(df[df[\"IsChildMenu\"] != 1].index)"
   ]
  },
  {
   "cell_type": "code",
   "execution_count": 5,
   "id": "supposed-tulsa",
   "metadata": {},
   "outputs": [
    {
     "output_type": "execute_result",
     "data": {
      "text/plain": [
       "    RestaurantID  IsVegetarian  IsVegan  IsHalal  IsKosher  HasLactose  \\\n",
       "0              2             0        0        0         0           1   \n",
       "1              2             0        0        0         0           1   \n",
       "2              2             0        0        0         0           1   \n",
       "3              2             0        0        0         0           1   \n",
       "4              2             0        0        0         0           1   \n",
       "5              2             0        0        0         0           1   \n",
       "6              2             0        0        0         0           1   \n",
       "7              2             0        0        0         0           1   \n",
       "8              2             0        0        0         0           1   \n",
       "9              2             0        0        0         0           1   \n",
       "10             2             0        0        0         0           1   \n",
       "11             2             0        0        0         0           1   \n",
       "12             2             0        0        0         0           1   \n",
       "13             2             0        0        0         0           1   \n",
       "14             2             0        0        0         0           1   \n",
       "15             2             0        0        0         0           1   \n",
       "16             2             0        0        0         0           1   \n",
       "17             2             0        0        0         0           1   \n",
       "18             2             0        0        0         0           1   \n",
       "19             2             0        0        0         0           1   \n",
       "20             2             0        0        0         0           1   \n",
       "21             2             0        0        0         0           1   \n",
       "22             2             0        0        0         0           1   \n",
       "23             5             0        0        0         0           1   \n",
       "24             5             0        0        0         0           1   \n",
       "25             5             0        0        0         0           1   \n",
       "26             5             0        0        0         0           1   \n",
       "27             5             0        0        0         0           1   \n",
       "28             5             0        0        0         0           1   \n",
       "29             5             0        0        0         0           1   \n",
       "30             5             0        0        0         0           1   \n",
       "31             5             0        0        0         0           1   \n",
       "32             5             0        0        0         0           1   \n",
       "33             5             0        0        0         0           1   \n",
       "34             5             0        0        0         0           1   \n",
       "35             5             0        0        0         0           1   \n",
       "36             5             0        0        0         0           1   \n",
       "37             5             0        0        0         0           1   \n",
       "38             5             0        0        0         0           1   \n",
       "39             5             0        0        0         0           1   \n",
       "40             5             0        0        0         0           1   \n",
       "41             5             0        0        0         0           1   \n",
       "42             5             0        0        0         0           1   \n",
       "\n",
       "    HasNuts  HasGluten  HasEgg  HasSoy  FoodID  \\\n",
       "0         1          1       1       1       2   \n",
       "1         1          1       1       1       2   \n",
       "2         1          1       1       1       2   \n",
       "3         1          1       1       1       2   \n",
       "4         1          1       1       1       5   \n",
       "5         1          1       1       1       5   \n",
       "6         1          1       1       1       5   \n",
       "7         1          1       1       1       6   \n",
       "8         1          1       1       1       6   \n",
       "9         1          1       1       1       6   \n",
       "10        1          1       1       1       6   \n",
       "11        1          1       1       1       7   \n",
       "12        1          1       1       1       7   \n",
       "13        1          1       1       1       7   \n",
       "14        1          1       1       1       8   \n",
       "15        1          1       1       1       8   \n",
       "16        1          1       1       1       8   \n",
       "17        1          1       1       1       8   \n",
       "18        1          1       1       1      10   \n",
       "19        1          1       1       1      10   \n",
       "20        1          1       1       1      10   \n",
       "21        1          1       1       1      10   \n",
       "22        1          1       1       1      10   \n",
       "23        1          1       1       1      22   \n",
       "24        1          1       1       1      22   \n",
       "25        1          1       1       1      22   \n",
       "26        1          1       1       1      23   \n",
       "27        1          1       1       1      24   \n",
       "28        1          1       1       1      25   \n",
       "29        1          1       1       1      25   \n",
       "30        1          1       1       1      26   \n",
       "31        1          1       1       1      26   \n",
       "32        1          1       1       1      26   \n",
       "33        1          1       1       1      26   \n",
       "34        1          1       1       1      13   \n",
       "35        1          1       1       1      13   \n",
       "36        1          1       1       1      16   \n",
       "37        1          1       1       1      18   \n",
       "38        1          1       1       1      18   \n",
       "39        1          1       1       1      18   \n",
       "40        1          1       1       1      20   \n",
       "41        1          1       1       1      21   \n",
       "42        1          1       1       1      21   \n",
       "\n",
       "                             FoodName    FoodNameShort  IsChildMenu  FoodTagID  \n",
       "0                 Chicken Katsu Curry      Katsu Curry            0          5  \n",
       "1                 Chicken Katsu Curry      Katsu Curry            0          6  \n",
       "2                 Chicken Katsu Curry      Katsu Curry            0          7  \n",
       "3                 Chicken Katsu Curry      Katsu Curry            0          8  \n",
       "4   Ackbar's Handcaught Salmon Nigiri    Salmon Nigiri            0          9  \n",
       "5   Ackbar's Handcaught Salmon Nigiri    Salmon Nigiri            0         11  \n",
       "6   Ackbar's Handcaught Salmon Nigiri    Salmon Nigiri            0         12  \n",
       "7                     Vegetable Gyoza  Vegetable Gyoza            0         13  \n",
       "8                     Vegetable Gyoza  Vegetable Gyoza            0         15  \n",
       "9                     Vegetable Gyoza  Vegetable Gyoza            0         16  \n",
       "10                    Vegetable Gyoza  Vegetable Gyoza            0         17  \n",
       "11                      Beef Teriyaki    Beef Teriyaki            0         18  \n",
       "12                      Beef Teriyaki    Beef Teriyaki            0         20  \n",
       "13                      Beef Teriyaki    Beef Teriyaki            0         21  \n",
       "14                       Avocado Maki     Avocado Maki            0         14  \n",
       "15                       Avocado Maki     Avocado Maki            0         22  \n",
       "16                       Avocado Maki     Avocado Maki            0         23  \n",
       "17                       Avocado Maki     Avocado Maki            0         24  \n",
       "18                Chicken Curry Ramen    Chicken Ramen            0          5  \n",
       "19                Chicken Curry Ramen    Chicken Ramen            0          7  \n",
       "20                Chicken Curry Ramen    Chicken Ramen            0          8  \n",
       "21                Chicken Curry Ramen    Chicken Ramen            0         25  \n",
       "22                Chicken Curry Ramen    Chicken Ramen            0         26  \n",
       "23                     Pork and Beans   Pork and Beans            0         30  \n",
       "24                     Pork and Beans   Pork and Beans            0         31  \n",
       "25                     Pork and Beans   Pork and Beans            0         35  \n",
       "26                 Denman's Own Pizza     Denman Pizza            0          2  \n",
       "27                       Mac N Cheese   Mac and Cheese            0         32  \n",
       "28                                J2O              J2O            0         33  \n",
       "29                                J2O              J2O            0         34  \n",
       "30                            Lasagne          Lasagne            0          4  \n",
       "31                            Lasagne          Lasagne            0         18  \n",
       "32                            Lasagne          Lasagne            0         32  \n",
       "33                            Lasagne          Lasagne            0         36  \n",
       "34                    The Spam Burger      Spam Burger            0         27  \n",
       "35                    The Spam Burger      Spam Burger            0         28  \n",
       "36                  The King Spamthur         Spamthur            0         28  \n",
       "37                      The Spamerlin        Spamerlin            0         11  \n",
       "38                      The Spamerlin        Spamerlin            0         20  \n",
       "39                      The Spamerlin        Spamerlin            0         28  \n",
       "40                       The Spam-Dog          Spamdog            0         28  \n",
       "41       Spam: Will it Blend? edition        SpamShake            0         28  \n",
       "42       Spam: Will it Blend? edition        SpamShake            0         29  "
      ],
      "text/html": "<div>\n<style scoped>\n    .dataframe tbody tr th:only-of-type {\n        vertical-align: middle;\n    }\n\n    .dataframe tbody tr th {\n        vertical-align: top;\n    }\n\n    .dataframe thead th {\n        text-align: right;\n    }\n</style>\n<table border=\"1\" class=\"dataframe\">\n  <thead>\n    <tr style=\"text-align: right;\">\n      <th></th>\n      <th>RestaurantID</th>\n      <th>IsVegetarian</th>\n      <th>IsVegan</th>\n      <th>IsHalal</th>\n      <th>IsKosher</th>\n      <th>HasLactose</th>\n      <th>HasNuts</th>\n      <th>HasGluten</th>\n      <th>HasEgg</th>\n      <th>HasSoy</th>\n      <th>FoodID</th>\n      <th>FoodName</th>\n      <th>FoodNameShort</th>\n      <th>IsChildMenu</th>\n      <th>FoodTagID</th>\n    </tr>\n  </thead>\n  <tbody>\n    <tr>\n      <th>0</th>\n      <td>2</td>\n      <td>0</td>\n      <td>0</td>\n      <td>0</td>\n      <td>0</td>\n      <td>1</td>\n      <td>1</td>\n      <td>1</td>\n      <td>1</td>\n      <td>1</td>\n      <td>2</td>\n      <td>Chicken Katsu Curry</td>\n      <td>Katsu Curry</td>\n      <td>0</td>\n      <td>5</td>\n    </tr>\n    <tr>\n      <th>1</th>\n      <td>2</td>\n      <td>0</td>\n      <td>0</td>\n      <td>0</td>\n      <td>0</td>\n      <td>1</td>\n      <td>1</td>\n      <td>1</td>\n      <td>1</td>\n      <td>1</td>\n      <td>2</td>\n      <td>Chicken Katsu Curry</td>\n      <td>Katsu Curry</td>\n      <td>0</td>\n      <td>6</td>\n    </tr>\n    <tr>\n      <th>2</th>\n      <td>2</td>\n      <td>0</td>\n      <td>0</td>\n      <td>0</td>\n      <td>0</td>\n      <td>1</td>\n      <td>1</td>\n      <td>1</td>\n      <td>1</td>\n      <td>1</td>\n      <td>2</td>\n      <td>Chicken Katsu Curry</td>\n      <td>Katsu Curry</td>\n      <td>0</td>\n      <td>7</td>\n    </tr>\n    <tr>\n      <th>3</th>\n      <td>2</td>\n      <td>0</td>\n      <td>0</td>\n      <td>0</td>\n      <td>0</td>\n      <td>1</td>\n      <td>1</td>\n      <td>1</td>\n      <td>1</td>\n      <td>1</td>\n      <td>2</td>\n      <td>Chicken Katsu Curry</td>\n      <td>Katsu Curry</td>\n      <td>0</td>\n      <td>8</td>\n    </tr>\n    <tr>\n      <th>4</th>\n      <td>2</td>\n      <td>0</td>\n      <td>0</td>\n      <td>0</td>\n      <td>0</td>\n      <td>1</td>\n      <td>1</td>\n      <td>1</td>\n      <td>1</td>\n      <td>1</td>\n      <td>5</td>\n      <td>Ackbar's Handcaught Salmon Nigiri</td>\n      <td>Salmon Nigiri</td>\n      <td>0</td>\n      <td>9</td>\n    </tr>\n    <tr>\n      <th>5</th>\n      <td>2</td>\n      <td>0</td>\n      <td>0</td>\n      <td>0</td>\n      <td>0</td>\n      <td>1</td>\n      <td>1</td>\n      <td>1</td>\n      <td>1</td>\n      <td>1</td>\n      <td>5</td>\n      <td>Ackbar's Handcaught Salmon Nigiri</td>\n      <td>Salmon Nigiri</td>\n      <td>0</td>\n      <td>11</td>\n    </tr>\n    <tr>\n      <th>6</th>\n      <td>2</td>\n      <td>0</td>\n      <td>0</td>\n      <td>0</td>\n      <td>0</td>\n      <td>1</td>\n      <td>1</td>\n      <td>1</td>\n      <td>1</td>\n      <td>1</td>\n      <td>5</td>\n      <td>Ackbar's Handcaught Salmon Nigiri</td>\n      <td>Salmon Nigiri</td>\n      <td>0</td>\n      <td>12</td>\n    </tr>\n    <tr>\n      <th>7</th>\n      <td>2</td>\n      <td>0</td>\n      <td>0</td>\n      <td>0</td>\n      <td>0</td>\n      <td>1</td>\n      <td>1</td>\n      <td>1</td>\n      <td>1</td>\n      <td>1</td>\n      <td>6</td>\n      <td>Vegetable Gyoza</td>\n      <td>Vegetable Gyoza</td>\n      <td>0</td>\n      <td>13</td>\n    </tr>\n    <tr>\n      <th>8</th>\n      <td>2</td>\n      <td>0</td>\n      <td>0</td>\n      <td>0</td>\n      <td>0</td>\n      <td>1</td>\n      <td>1</td>\n      <td>1</td>\n      <td>1</td>\n      <td>1</td>\n      <td>6</td>\n      <td>Vegetable Gyoza</td>\n      <td>Vegetable Gyoza</td>\n      <td>0</td>\n      <td>15</td>\n    </tr>\n    <tr>\n      <th>9</th>\n      <td>2</td>\n      <td>0</td>\n      <td>0</td>\n      <td>0</td>\n      <td>0</td>\n      <td>1</td>\n      <td>1</td>\n      <td>1</td>\n      <td>1</td>\n      <td>1</td>\n      <td>6</td>\n      <td>Vegetable Gyoza</td>\n      <td>Vegetable Gyoza</td>\n      <td>0</td>\n      <td>16</td>\n    </tr>\n    <tr>\n      <th>10</th>\n      <td>2</td>\n      <td>0</td>\n      <td>0</td>\n      <td>0</td>\n      <td>0</td>\n      <td>1</td>\n      <td>1</td>\n      <td>1</td>\n      <td>1</td>\n      <td>1</td>\n      <td>6</td>\n      <td>Vegetable Gyoza</td>\n      <td>Vegetable Gyoza</td>\n      <td>0</td>\n      <td>17</td>\n    </tr>\n    <tr>\n      <th>11</th>\n      <td>2</td>\n      <td>0</td>\n      <td>0</td>\n      <td>0</td>\n      <td>0</td>\n      <td>1</td>\n      <td>1</td>\n      <td>1</td>\n      <td>1</td>\n      <td>1</td>\n      <td>7</td>\n      <td>Beef Teriyaki</td>\n      <td>Beef Teriyaki</td>\n      <td>0</td>\n      <td>18</td>\n    </tr>\n    <tr>\n      <th>12</th>\n      <td>2</td>\n      <td>0</td>\n      <td>0</td>\n      <td>0</td>\n      <td>0</td>\n      <td>1</td>\n      <td>1</td>\n      <td>1</td>\n      <td>1</td>\n      <td>1</td>\n      <td>7</td>\n      <td>Beef Teriyaki</td>\n      <td>Beef Teriyaki</td>\n      <td>0</td>\n      <td>20</td>\n    </tr>\n    <tr>\n      <th>13</th>\n      <td>2</td>\n      <td>0</td>\n      <td>0</td>\n      <td>0</td>\n      <td>0</td>\n      <td>1</td>\n      <td>1</td>\n      <td>1</td>\n      <td>1</td>\n      <td>1</td>\n      <td>7</td>\n      <td>Beef Teriyaki</td>\n      <td>Beef Teriyaki</td>\n      <td>0</td>\n      <td>21</td>\n    </tr>\n    <tr>\n      <th>14</th>\n      <td>2</td>\n      <td>0</td>\n      <td>0</td>\n      <td>0</td>\n      <td>0</td>\n      <td>1</td>\n      <td>1</td>\n      <td>1</td>\n      <td>1</td>\n      <td>1</td>\n      <td>8</td>\n      <td>Avocado Maki</td>\n      <td>Avocado Maki</td>\n      <td>0</td>\n      <td>14</td>\n    </tr>\n    <tr>\n      <th>15</th>\n      <td>2</td>\n      <td>0</td>\n      <td>0</td>\n      <td>0</td>\n      <td>0</td>\n      <td>1</td>\n      <td>1</td>\n      <td>1</td>\n      <td>1</td>\n      <td>1</td>\n      <td>8</td>\n      <td>Avocado Maki</td>\n      <td>Avocado Maki</td>\n      <td>0</td>\n      <td>22</td>\n    </tr>\n    <tr>\n      <th>16</th>\n      <td>2</td>\n      <td>0</td>\n      <td>0</td>\n      <td>0</td>\n      <td>0</td>\n      <td>1</td>\n      <td>1</td>\n      <td>1</td>\n      <td>1</td>\n      <td>1</td>\n      <td>8</td>\n      <td>Avocado Maki</td>\n      <td>Avocado Maki</td>\n      <td>0</td>\n      <td>23</td>\n    </tr>\n    <tr>\n      <th>17</th>\n      <td>2</td>\n      <td>0</td>\n      <td>0</td>\n      <td>0</td>\n      <td>0</td>\n      <td>1</td>\n      <td>1</td>\n      <td>1</td>\n      <td>1</td>\n      <td>1</td>\n      <td>8</td>\n      <td>Avocado Maki</td>\n      <td>Avocado Maki</td>\n      <td>0</td>\n      <td>24</td>\n    </tr>\n    <tr>\n      <th>18</th>\n      <td>2</td>\n      <td>0</td>\n      <td>0</td>\n      <td>0</td>\n      <td>0</td>\n      <td>1</td>\n      <td>1</td>\n      <td>1</td>\n      <td>1</td>\n      <td>1</td>\n      <td>10</td>\n      <td>Chicken Curry Ramen</td>\n      <td>Chicken Ramen</td>\n      <td>0</td>\n      <td>5</td>\n    </tr>\n    <tr>\n      <th>19</th>\n      <td>2</td>\n      <td>0</td>\n      <td>0</td>\n      <td>0</td>\n      <td>0</td>\n      <td>1</td>\n      <td>1</td>\n      <td>1</td>\n      <td>1</td>\n      <td>1</td>\n      <td>10</td>\n      <td>Chicken Curry Ramen</td>\n      <td>Chicken Ramen</td>\n      <td>0</td>\n      <td>7</td>\n    </tr>\n    <tr>\n      <th>20</th>\n      <td>2</td>\n      <td>0</td>\n      <td>0</td>\n      <td>0</td>\n      <td>0</td>\n      <td>1</td>\n      <td>1</td>\n      <td>1</td>\n      <td>1</td>\n      <td>1</td>\n      <td>10</td>\n      <td>Chicken Curry Ramen</td>\n      <td>Chicken Ramen</td>\n      <td>0</td>\n      <td>8</td>\n    </tr>\n    <tr>\n      <th>21</th>\n      <td>2</td>\n      <td>0</td>\n      <td>0</td>\n      <td>0</td>\n      <td>0</td>\n      <td>1</td>\n      <td>1</td>\n      <td>1</td>\n      <td>1</td>\n      <td>1</td>\n      <td>10</td>\n      <td>Chicken Curry Ramen</td>\n      <td>Chicken Ramen</td>\n      <td>0</td>\n      <td>25</td>\n    </tr>\n    <tr>\n      <th>22</th>\n      <td>2</td>\n      <td>0</td>\n      <td>0</td>\n      <td>0</td>\n      <td>0</td>\n      <td>1</td>\n      <td>1</td>\n      <td>1</td>\n      <td>1</td>\n      <td>1</td>\n      <td>10</td>\n      <td>Chicken Curry Ramen</td>\n      <td>Chicken Ramen</td>\n      <td>0</td>\n      <td>26</td>\n    </tr>\n    <tr>\n      <th>23</th>\n      <td>5</td>\n      <td>0</td>\n      <td>0</td>\n      <td>0</td>\n      <td>0</td>\n      <td>1</td>\n      <td>1</td>\n      <td>1</td>\n      <td>1</td>\n      <td>1</td>\n      <td>22</td>\n      <td>Pork and Beans</td>\n      <td>Pork and Beans</td>\n      <td>0</td>\n      <td>30</td>\n    </tr>\n    <tr>\n      <th>24</th>\n      <td>5</td>\n      <td>0</td>\n      <td>0</td>\n      <td>0</td>\n      <td>0</td>\n      <td>1</td>\n      <td>1</td>\n      <td>1</td>\n      <td>1</td>\n      <td>1</td>\n      <td>22</td>\n      <td>Pork and Beans</td>\n      <td>Pork and Beans</td>\n      <td>0</td>\n      <td>31</td>\n    </tr>\n    <tr>\n      <th>25</th>\n      <td>5</td>\n      <td>0</td>\n      <td>0</td>\n      <td>0</td>\n      <td>0</td>\n      <td>1</td>\n      <td>1</td>\n      <td>1</td>\n      <td>1</td>\n      <td>1</td>\n      <td>22</td>\n      <td>Pork and Beans</td>\n      <td>Pork and Beans</td>\n      <td>0</td>\n      <td>35</td>\n    </tr>\n    <tr>\n      <th>26</th>\n      <td>5</td>\n      <td>0</td>\n      <td>0</td>\n      <td>0</td>\n      <td>0</td>\n      <td>1</td>\n      <td>1</td>\n      <td>1</td>\n      <td>1</td>\n      <td>1</td>\n      <td>23</td>\n      <td>Denman's Own Pizza</td>\n      <td>Denman Pizza</td>\n      <td>0</td>\n      <td>2</td>\n    </tr>\n    <tr>\n      <th>27</th>\n      <td>5</td>\n      <td>0</td>\n      <td>0</td>\n      <td>0</td>\n      <td>0</td>\n      <td>1</td>\n      <td>1</td>\n      <td>1</td>\n      <td>1</td>\n      <td>1</td>\n      <td>24</td>\n      <td>Mac N Cheese</td>\n      <td>Mac and Cheese</td>\n      <td>0</td>\n      <td>32</td>\n    </tr>\n    <tr>\n      <th>28</th>\n      <td>5</td>\n      <td>0</td>\n      <td>0</td>\n      <td>0</td>\n      <td>0</td>\n      <td>1</td>\n      <td>1</td>\n      <td>1</td>\n      <td>1</td>\n      <td>1</td>\n      <td>25</td>\n      <td>J2O</td>\n      <td>J2O</td>\n      <td>0</td>\n      <td>33</td>\n    </tr>\n    <tr>\n      <th>29</th>\n      <td>5</td>\n      <td>0</td>\n      <td>0</td>\n      <td>0</td>\n      <td>0</td>\n      <td>1</td>\n      <td>1</td>\n      <td>1</td>\n      <td>1</td>\n      <td>1</td>\n      <td>25</td>\n      <td>J2O</td>\n      <td>J2O</td>\n      <td>0</td>\n      <td>34</td>\n    </tr>\n    <tr>\n      <th>30</th>\n      <td>5</td>\n      <td>0</td>\n      <td>0</td>\n      <td>0</td>\n      <td>0</td>\n      <td>1</td>\n      <td>1</td>\n      <td>1</td>\n      <td>1</td>\n      <td>1</td>\n      <td>26</td>\n      <td>Lasagne</td>\n      <td>Lasagne</td>\n      <td>0</td>\n      <td>4</td>\n    </tr>\n    <tr>\n      <th>31</th>\n      <td>5</td>\n      <td>0</td>\n      <td>0</td>\n      <td>0</td>\n      <td>0</td>\n      <td>1</td>\n      <td>1</td>\n      <td>1</td>\n      <td>1</td>\n      <td>1</td>\n      <td>26</td>\n      <td>Lasagne</td>\n      <td>Lasagne</td>\n      <td>0</td>\n      <td>18</td>\n    </tr>\n    <tr>\n      <th>32</th>\n      <td>5</td>\n      <td>0</td>\n      <td>0</td>\n      <td>0</td>\n      <td>0</td>\n      <td>1</td>\n      <td>1</td>\n      <td>1</td>\n      <td>1</td>\n      <td>1</td>\n      <td>26</td>\n      <td>Lasagne</td>\n      <td>Lasagne</td>\n      <td>0</td>\n      <td>32</td>\n    </tr>\n    <tr>\n      <th>33</th>\n      <td>5</td>\n      <td>0</td>\n      <td>0</td>\n      <td>0</td>\n      <td>0</td>\n      <td>1</td>\n      <td>1</td>\n      <td>1</td>\n      <td>1</td>\n      <td>1</td>\n      <td>26</td>\n      <td>Lasagne</td>\n      <td>Lasagne</td>\n      <td>0</td>\n      <td>36</td>\n    </tr>\n    <tr>\n      <th>34</th>\n      <td>5</td>\n      <td>0</td>\n      <td>0</td>\n      <td>0</td>\n      <td>0</td>\n      <td>1</td>\n      <td>1</td>\n      <td>1</td>\n      <td>1</td>\n      <td>1</td>\n      <td>13</td>\n      <td>The Spam Burger</td>\n      <td>Spam Burger</td>\n      <td>0</td>\n      <td>27</td>\n    </tr>\n    <tr>\n      <th>35</th>\n      <td>5</td>\n      <td>0</td>\n      <td>0</td>\n      <td>0</td>\n      <td>0</td>\n      <td>1</td>\n      <td>1</td>\n      <td>1</td>\n      <td>1</td>\n      <td>1</td>\n      <td>13</td>\n      <td>The Spam Burger</td>\n      <td>Spam Burger</td>\n      <td>0</td>\n      <td>28</td>\n    </tr>\n    <tr>\n      <th>36</th>\n      <td>5</td>\n      <td>0</td>\n      <td>0</td>\n      <td>0</td>\n      <td>0</td>\n      <td>1</td>\n      <td>1</td>\n      <td>1</td>\n      <td>1</td>\n      <td>1</td>\n      <td>16</td>\n      <td>The King Spamthur</td>\n      <td>Spamthur</td>\n      <td>0</td>\n      <td>28</td>\n    </tr>\n    <tr>\n      <th>37</th>\n      <td>5</td>\n      <td>0</td>\n      <td>0</td>\n      <td>0</td>\n      <td>0</td>\n      <td>1</td>\n      <td>1</td>\n      <td>1</td>\n      <td>1</td>\n      <td>1</td>\n      <td>18</td>\n      <td>The Spamerlin</td>\n      <td>Spamerlin</td>\n      <td>0</td>\n      <td>11</td>\n    </tr>\n    <tr>\n      <th>38</th>\n      <td>5</td>\n      <td>0</td>\n      <td>0</td>\n      <td>0</td>\n      <td>0</td>\n      <td>1</td>\n      <td>1</td>\n      <td>1</td>\n      <td>1</td>\n      <td>1</td>\n      <td>18</td>\n      <td>The Spamerlin</td>\n      <td>Spamerlin</td>\n      <td>0</td>\n      <td>20</td>\n    </tr>\n    <tr>\n      <th>39</th>\n      <td>5</td>\n      <td>0</td>\n      <td>0</td>\n      <td>0</td>\n      <td>0</td>\n      <td>1</td>\n      <td>1</td>\n      <td>1</td>\n      <td>1</td>\n      <td>1</td>\n      <td>18</td>\n      <td>The Spamerlin</td>\n      <td>Spamerlin</td>\n      <td>0</td>\n      <td>28</td>\n    </tr>\n    <tr>\n      <th>40</th>\n      <td>5</td>\n      <td>0</td>\n      <td>0</td>\n      <td>0</td>\n      <td>0</td>\n      <td>1</td>\n      <td>1</td>\n      <td>1</td>\n      <td>1</td>\n      <td>1</td>\n      <td>20</td>\n      <td>The Spam-Dog</td>\n      <td>Spamdog</td>\n      <td>0</td>\n      <td>28</td>\n    </tr>\n    <tr>\n      <th>41</th>\n      <td>5</td>\n      <td>0</td>\n      <td>0</td>\n      <td>0</td>\n      <td>0</td>\n      <td>1</td>\n      <td>1</td>\n      <td>1</td>\n      <td>1</td>\n      <td>1</td>\n      <td>21</td>\n      <td>Spam: Will it Blend? edition</td>\n      <td>SpamShake</td>\n      <td>0</td>\n      <td>28</td>\n    </tr>\n    <tr>\n      <th>42</th>\n      <td>5</td>\n      <td>0</td>\n      <td>0</td>\n      <td>0</td>\n      <td>0</td>\n      <td>1</td>\n      <td>1</td>\n      <td>1</td>\n      <td>1</td>\n      <td>1</td>\n      <td>21</td>\n      <td>Spam: Will it Blend? edition</td>\n      <td>SpamShake</td>\n      <td>0</td>\n      <td>29</td>\n    </tr>\n  </tbody>\n</table>\n</div>"
     },
     "metadata": {},
     "execution_count": 5
    }
   ],
   "source": [
    "df"
   ]
  },
  {
   "cell_type": "code",
   "execution_count": 6,
   "id": "demanding-federation",
   "metadata": {},
   "outputs": [],
   "source": [
    "food_items = []\n",
    "\n",
    "for food_id in df.FoodID.unique():\n",
    "    # For each unique food id\n",
    "    # Extract that part of the dataframe, and create a new food item from it\n",
    "    food_items.append(FoodItem(df[df[\"FoodID\"] == food_id]))"
   ]
  },
  {
   "cell_type": "code",
   "execution_count": 7,
   "id": "related-membership",
   "metadata": {},
   "outputs": [
    {
     "output_type": "stream",
     "name": "stdout",
     "text": [
      "Done in 0.3734 seconds\n"
     ]
    }
   ],
   "source": [
    "end = time.perf_counter()\n",
    "print(f\"Done in {end - start:0.4f} seconds\")"
   ]
  },
  {
   "cell_type": "code",
   "execution_count": 8,
   "id": "preceding-relevance",
   "metadata": {},
   "outputs": [
    {
     "output_type": "stream",
     "name": "stdout",
     "text": [
      "ID: 2 - (<class 'int'>)\nFoodTags: [5, 6, 7, 8] - (<class 'list'>)\nRestaurant ID: 2\nID: 5 - (<class 'int'>)\nFoodTags: [9, 11, 12] - (<class 'list'>)\nRestaurant ID: 2\nID: 6 - (<class 'int'>)\nFoodTags: [13, 15, 16, 17] - (<class 'list'>)\nRestaurant ID: 2\nID: 7 - (<class 'int'>)\nFoodTags: [18, 20, 21] - (<class 'list'>)\nRestaurant ID: 2\nID: 8 - (<class 'int'>)\nFoodTags: [14, 22, 23, 24] - (<class 'list'>)\nRestaurant ID: 2\nID: 10 - (<class 'int'>)\nFoodTags: [5, 7, 8, 25, 26] - (<class 'list'>)\nRestaurant ID: 2\nID: 22 - (<class 'int'>)\nFoodTags: [30, 31, 35] - (<class 'list'>)\nRestaurant ID: 5\nID: 23 - (<class 'int'>)\nFoodTags: [2] - (<class 'list'>)\nRestaurant ID: 5\nID: 24 - (<class 'int'>)\nFoodTags: [32] - (<class 'list'>)\nRestaurant ID: 5\nID: 25 - (<class 'int'>)\nFoodTags: [33, 34] - (<class 'list'>)\nRestaurant ID: 5\nID: 26 - (<class 'int'>)\nFoodTags: [4, 18, 32, 36] - (<class 'list'>)\nRestaurant ID: 5\nID: 13 - (<class 'int'>)\nFoodTags: [27, 28] - (<class 'list'>)\nRestaurant ID: 5\nID: 16 - (<class 'int'>)\nFoodTags: [28] - (<class 'list'>)\nRestaurant ID: 5\nID: 18 - (<class 'int'>)\nFoodTags: [11, 20, 28] - (<class 'list'>)\nRestaurant ID: 5\nID: 20 - (<class 'int'>)\nFoodTags: [28] - (<class 'list'>)\nRestaurant ID: 5\nID: 21 - (<class 'int'>)\nFoodTags: [28, 29] - (<class 'list'>)\nRestaurant ID: 5\n"
     ]
    }
   ],
   "source": [
    "for food_item in food_items:\n",
    "    food_item.printInfo()"
   ]
  }
 ],
 "metadata": {
  "kernelspec": {
   "display_name": "Python 3",
   "language": "python",
   "name": "python3"
  },
  "language_info": {
   "codemirror_mode": {
    "name": "ipython",
    "version": 3
   },
   "file_extension": ".py",
   "mimetype": "text/x-python",
   "name": "python",
   "nbconvert_exporter": "python",
   "pygments_lexer": "ipython3",
   "version": "3.9.2"
  }
 },
 "nbformat": 4,
 "nbformat_minor": 5
}
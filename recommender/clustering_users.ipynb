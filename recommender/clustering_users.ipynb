{
 "metadata": {
  "language_info": {
   "codemirror_mode": {
    "name": "ipython",
    "version": 3
   },
   "file_extension": ".py",
   "mimetype": "text/x-python",
   "name": "python",
   "nbconvert_exporter": "python",
   "pygments_lexer": "ipython3",
   "version": "3.8.5-final"
  },
  "orig_nbformat": 2,
  "kernelspec": {
   "name": "python3",
   "display_name": "Python 3.8.5 64-bit",
   "metadata": {
    "interpreter": {
     "hash": "2db524e06e9f5f4ffedc911c917cb75e12dbc923643829bf417064a77eb14d37"
    }
   }
  }
 },
 "nbformat": 4,
 "nbformat_minor": 2,
 "cells": [
  {
   "cell_type": "code",
   "execution_count": 1,
   "metadata": {},
   "outputs": [
    {
     "output_type": "execute_result",
     "data": {
      "text/plain": [
       "   UserID   OpinionFor1   OpinionFor2   OpinionFor3   OpinionFor4  \\\n",
       "0       1           1.4           2.0           0.1           0.0   \n",
       "1       2           1.3           1.9           0.8           1.0   \n",
       "2       3           1.3           1.5           1.5           1.1   \n",
       "3       4           0.6           0.7           0.8           0.1   \n",
       "4       5           2.0           1.2           1.2           0.6   \n",
       "\n",
       "    OpinionFor5   OpinionFor6   OpinionFor7   OpinionFor8   OpinionFor9  \\\n",
       "0           0.4           0.0           0.6           1.1           0.1   \n",
       "1           0.2           0.1           1.9           0.2           0.1   \n",
       "2           1.6           0.8           0.5           0.2           0.9   \n",
       "3           0.1           0.0           2.0           0.1           0.6   \n",
       "4           0.1           0.5           0.8           1.1           0.3   \n",
       "\n",
       "    OpinionFor10  \n",
       "0            1.9  \n",
       "1            0.1  \n",
       "2            1.3  \n",
       "3            0.3  \n",
       "4            0.0  "
      ],
      "text/html": "<div>\n<style scoped>\n    .dataframe tbody tr th:only-of-type {\n        vertical-align: middle;\n    }\n\n    .dataframe tbody tr th {\n        vertical-align: top;\n    }\n\n    .dataframe thead th {\n        text-align: right;\n    }\n</style>\n<table border=\"1\" class=\"dataframe\">\n  <thead>\n    <tr style=\"text-align: right;\">\n      <th></th>\n      <th>UserID</th>\n      <th>OpinionFor1</th>\n      <th>OpinionFor2</th>\n      <th>OpinionFor3</th>\n      <th>OpinionFor4</th>\n      <th>OpinionFor5</th>\n      <th>OpinionFor6</th>\n      <th>OpinionFor7</th>\n      <th>OpinionFor8</th>\n      <th>OpinionFor9</th>\n      <th>OpinionFor10</th>\n    </tr>\n  </thead>\n  <tbody>\n    <tr>\n      <th>0</th>\n      <td>1</td>\n      <td>1.4</td>\n      <td>2.0</td>\n      <td>0.1</td>\n      <td>0.0</td>\n      <td>0.4</td>\n      <td>0.0</td>\n      <td>0.6</td>\n      <td>1.1</td>\n      <td>0.1</td>\n      <td>1.9</td>\n    </tr>\n    <tr>\n      <th>1</th>\n      <td>2</td>\n      <td>1.3</td>\n      <td>1.9</td>\n      <td>0.8</td>\n      <td>1.0</td>\n      <td>0.2</td>\n      <td>0.1</td>\n      <td>1.9</td>\n      <td>0.2</td>\n      <td>0.1</td>\n      <td>0.1</td>\n    </tr>\n    <tr>\n      <th>2</th>\n      <td>3</td>\n      <td>1.3</td>\n      <td>1.5</td>\n      <td>1.5</td>\n      <td>1.1</td>\n      <td>1.6</td>\n      <td>0.8</td>\n      <td>0.5</td>\n      <td>0.2</td>\n      <td>0.9</td>\n      <td>1.3</td>\n    </tr>\n    <tr>\n      <th>3</th>\n      <td>4</td>\n      <td>0.6</td>\n      <td>0.7</td>\n      <td>0.8</td>\n      <td>0.1</td>\n      <td>0.1</td>\n      <td>0.0</td>\n      <td>2.0</td>\n      <td>0.1</td>\n      <td>0.6</td>\n      <td>0.3</td>\n    </tr>\n    <tr>\n      <th>4</th>\n      <td>5</td>\n      <td>2.0</td>\n      <td>1.2</td>\n      <td>1.2</td>\n      <td>0.6</td>\n      <td>0.1</td>\n      <td>0.5</td>\n      <td>0.8</td>\n      <td>1.1</td>\n      <td>0.3</td>\n      <td>0.0</td>\n    </tr>\n  </tbody>\n</table>\n</div>"
     },
     "metadata": {},
     "execution_count": 1
    }
   ],
   "source": [
    "import pandas as pd\n",
    "\n",
    "df = pd.read_csv(\"./Dataset.csv\")\n",
    "\n",
    "\n",
    "def merge_sort(array, left_index, right_index):\n",
    "    if left_index >= right_index:\n",
    "        return\n",
    "\n",
    "    middle = (left_index + right_index)//2\n",
    "    merge_sort(array, left_index, middle)\n",
    "    merge_sort(array, middle + 1, right_index)\n",
    "    merge(array, left_index, right_index, middle)\n",
    "\n",
    "def merge(array, left_index, right_index, middle):\n",
    "    # Make copies of both arrays we're trying to merge\n",
    "\n",
    "    # The second parameter is non-inclusive, so we have to increase by 1\n",
    "    left_copy = array[left_index:middle + 1]\n",
    "    right_copy = array[middle+1:right_index+1]\n",
    "\n",
    "    # Initial values for variables that we use to keep\n",
    "    # track of where we are in each array\n",
    "    left_copy_index = 0\n",
    "    right_copy_index = 0\n",
    "    sorted_index = left_index\n",
    "\n",
    "    # Go through both copies until we run out of elements in one\n",
    "    while left_copy_index < len(left_copy) and right_copy_index < len(right_copy):\n",
    "\n",
    "        # If our left_copy has the smaller element, put it in the sorted\n",
    "        # part and then move forward in left_copy (by increasing the pointer)\n",
    "        if left_copy[left_copy_index][1] <= right_copy[right_copy_index][1]:\n",
    "            array[sorted_index] = left_copy[left_copy_index]\n",
    "            left_copy_index = left_copy_index + 1\n",
    "        # Opposite from above\n",
    "        else:\n",
    "            array[sorted_index] = right_copy[right_copy_index]\n",
    "            right_copy_index = right_copy_index + 1\n",
    "\n",
    "        # Regardless of where we got our element from\n",
    "        # move forward in the sorted part\n",
    "        sorted_index = sorted_index + 1\n",
    "\n",
    "    # We ran out of elements either in left_copy or right_copy\n",
    "    # so we will go through the remaining elements and add them\n",
    "    while left_copy_index < len(left_copy):\n",
    "        array[sorted_index] = left_copy[left_copy_index]\n",
    "        left_copy_index = left_copy_index + 1\n",
    "        sorted_index = sorted_index + 1\n",
    "\n",
    "    while right_copy_index < len(right_copy):\n",
    "        array[sorted_index] = right_copy[right_copy_index]\n",
    "        right_copy_index = right_copy_index + 1\n",
    "        sorted_index = sorted_index + 1\n",
    "\n",
    "df.head()\n",
    "\n",
    "\n"
   ]
  },
  {
   "cell_type": "code",
   "execution_count": 2,
   "metadata": {},
   "outputs": [],
   "source": [
    "from user import User\n",
    "del df[\"UserID\"]\n",
    "users = []\n",
    "for i in range(len(df)):\n",
    "    row = df.iloc[i].values\n",
    "    data = []\n",
    "    for ii in range(len(row)):\n",
    "        data.append((ii, row[ii]))\n",
    "    merge_sort(data, 0, len(data) - 1)\n",
    "    users.append(User(data[:5], data[5:], True, id=i + 1))"
   ]
  },
  {
   "cell_type": "code",
   "execution_count": 3,
   "metadata": {},
   "outputs": [
    {
     "output_type": "stream",
     "name": "stdout",
     "text": [
      "-----------------\nUserID: 1\nMost liked: \n[(3, 0.0), (5, 0.0), (2, 0.1), (8, 0.1), (4, 0.4)]\nMost disliked: \n[(6, 0.6), (7, 1.1), (0, 1.4), (9, 1.9), (1, 2.0)]\n-----------------\n-----------------\nUserID: 2\nMost liked: \n[(5, 0.1), (8, 0.1), (9, 0.1), (4, 0.2), (7, 0.2)]\nMost disliked: \n[(2, 0.8), (3, 1.0), (0, 1.3), (1, 1.9), (6, 1.9)]\n-----------------\n-----------------\nUserID: 3\nMost liked: \n[(7, 0.2), (6, 0.5), (5, 0.8), (8, 0.9), (3, 1.1)]\nMost disliked: \n[(0, 1.3), (9, 1.3), (1, 1.5), (2, 1.5), (4, 1.6)]\n-----------------\n-----------------\nUserID: 4\nMost liked: \n[(5, 0.0), (3, 0.1), (4, 0.1), (7, 0.1), (9, 0.3)]\nMost disliked: \n[(0, 0.6), (8, 0.6), (1, 0.7), (2, 0.8), (6, 2.0)]\n-----------------\n-----------------\nUserID: 5\nMost liked: \n[(9, 0.0), (4, 0.1), (8, 0.3), (5, 0.5), (3, 0.6)]\nMost disliked: \n[(6, 0.8), (7, 1.1), (1, 1.2), (2, 1.2), (0, 2.0)]\n-----------------\n-----------------\nUserID: 6\nMost liked: \n[(7, 0.2), (0, 0.6), (4, 1.0), (8, 1.1), (2, 1.4)]\nMost disliked: \n[(5, 1.4), (1, 1.5), (6, 1.5), (9, 1.5), (3, 1.7)]\n-----------------\n-----------------\nUserID: 7\nMost liked: \n[(7, 0.1), (3, 0.3), (2, 0.5), (4, 0.5), (5, 0.7)]\nMost disliked: \n[(1, 1.1), (6, 1.5), (8, 1.5), (9, 1.5), (0, 1.7)]\n-----------------\n-----------------\nUserID: 8\nMost liked: \n[(6, 0.1), (0, 0.4), (3, 0.4), (8, 0.4), (2, 0.6)]\nMost disliked: \n[(9, 0.6), (5, 0.7), (1, 1.1), (7, 1.4), (4, 1.8)]\n-----------------\n-----------------\nUserID: 9\nMost liked: \n[(6, 0.3), (8, 0.3), (3, 0.8), (5, 0.9), (9, 0.9)]\nMost disliked: \n[(0, 1.0), (1, 1.3), (2, 1.6), (4, 1.7), (7, 2.0)]\n-----------------\n-----------------\nUserID: 10\nMost liked: \n[(6, 0.1), (2, 0.3), (5, 0.3), (0, 0.4), (1, 0.4)]\nMost disliked: \n[(7, 1.0), (9, 1.1), (8, 1.2), (3, 1.7), (4, 1.7)]\n-----------------\n-----------------\nUserID: 11\nMost liked: \n[(6, 0.3), (3, 0.6), (8, 0.7), (7, 0.9), (5, 1.0)]\nMost disliked: \n[(0, 1.7), (1, 1.8), (9, 1.8), (2, 1.9), (4, 1.9)]\n-----------------\n-----------------\nUserID: 12\nMost liked: \n[(2, 0.1), (9, 0.2), (7, 0.3), (0, 0.6), (4, 0.6)]\nMost disliked: \n[(5, 1.0), (8, 1.1), (1, 1.2), (3, 1.6), (6, 1.8)]\n-----------------\n-----------------\nUserID: 13\nMost liked: \n[(3, 0.3), (9, 0.4), (6, 0.8), (5, 0.9), (0, 1.2)]\nMost disliked: \n[(2, 1.2), (8, 1.4), (4, 1.5), (7, 1.6), (1, 2.0)]\n-----------------\n-----------------\nUserID: 14\nMost liked: \n[(1, 0.1), (5, 0.2), (9, 0.4), (4, 0.5), (7, 0.5)]\nMost disliked: \n[(6, 0.9), (0, 1.0), (2, 1.1), (8, 1.7), (3, 1.8)]\n-----------------\n-----------------\nUserID: 15\nMost liked: \n[(8, 0.1), (0, 0.2), (5, 0.3), (6, 0.4), (4, 0.6)]\nMost disliked: \n[(2, 0.7), (1, 0.9), (3, 1.1), (9, 1.4), (7, 1.8)]\n-----------------\n-----------------\nUserID: 16\nMost liked: \n[(1, 0.3), (4, 0.5), (0, 0.6), (7, 0.7), (5, 0.9)]\nMost disliked: \n[(6, 1.0), (8, 1.6), (3, 1.8), (9, 1.8), (2, 1.9)]\n-----------------\n-----------------\nUserID: 17\nMost liked: \n[(5, 0.2), (0, 0.4), (1, 0.4), (6, 0.4), (7, 0.4)]\nMost disliked: \n[(8, 0.4), (2, 0.7), (9, 0.8), (3, 1.9), (4, 1.9)]\n-----------------\n-----------------\nUserID: 18\nMost liked: \n[(5, 0.1), (2, 0.2), (8, 0.4), (4, 0.6), (9, 0.6)]\nMost disliked: \n[(6, 1.1), (1, 1.5), (0, 1.6), (3, 1.6), (7, 1.9)]\n-----------------\n-----------------\nUserID: 19\nMost liked: \n[(4, 0.3), (5, 0.6), (7, 1.1), (3, 1.2), (8, 1.3)]\nMost disliked: \n[(9, 1.3), (2, 1.6), (0, 1.8), (1, 1.8), (6, 1.8)]\n-----------------\n-----------------\nUserID: 20\nMost liked: \n[(1, 0.0), (0, 0.5), (5, 0.5), (2, 0.7), (6, 0.8)]\nMost disliked: \n[(4, 1.0), (7, 1.0), (3, 1.3), (9, 1.4), (8, 1.9)]\n-----------------\n"
     ]
    }
   ],
   "source": [
    "for user in users:\n",
    "    print(\"-----------------\")\n",
    "    print(f\"UserID: {user.user_id}\")\n",
    "    print(f\"Most liked: \\n{user.top_five_likes}\")\n",
    "    print(f\"Most disliked: \\n{user.top_five_dislikes}\")\n",
    "    print(\"-----------------\")"
   ]
  }
 ]
}